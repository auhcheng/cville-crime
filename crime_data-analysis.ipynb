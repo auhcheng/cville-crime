{
 "cells": [
  {
   "cell_type": "code",
   "execution_count": 1,
   "metadata": {},
   "outputs": [],
   "source": [
    "import pandas as pd\n",
    "import numpy as np\n",
    "import sklearn\n",
    "import matplotlib.pyplot as plt"
   ]
  },
  {
   "cell_type": "code",
   "execution_count": 2,
   "metadata": {},
   "outputs": [
    {
     "name": "stdout",
     "output_type": "stream",
     "text": [
      "<class 'pandas.core.frame.DataFrame'>\n",
      "RangeIndex: 29448 entries, 0 to 29447\n",
      "Data columns (total 8 columns):\n",
      "RecordID        29448 non-null int64\n",
      "Offense         29448 non-null object\n",
      "IncidentID      29448 non-null int64\n",
      "BlockNumber     28862 non-null float64\n",
      "StreetName      29446 non-null object\n",
      "Agency          29448 non-null object\n",
      "DateReported    29448 non-null object\n",
      "HourReported    29448 non-null int64\n",
      "dtypes: float64(1), int64(3), object(4)\n",
      "memory usage: 1.8+ MB\n"
     ]
    }
   ],
   "source": [
    "crime = pd.read_csv('Crime_Data.csv')\n",
    "crime.info()"
   ]
  },
  {
   "cell_type": "code",
   "execution_count": 3,
   "metadata": {},
   "outputs": [
    {
     "data": {
      "text/html": [
       "<div>\n",
       "<style scoped>\n",
       "    .dataframe tbody tr th:only-of-type {\n",
       "        vertical-align: middle;\n",
       "    }\n",
       "\n",
       "    .dataframe tbody tr th {\n",
       "        vertical-align: top;\n",
       "    }\n",
       "\n",
       "    .dataframe thead th {\n",
       "        text-align: right;\n",
       "    }\n",
       "</style>\n",
       "<table border=\"1\" class=\"dataframe\">\n",
       "  <thead>\n",
       "    <tr style=\"text-align: right;\">\n",
       "      <th></th>\n",
       "      <th>RecordID</th>\n",
       "      <th>Offense</th>\n",
       "      <th>IncidentID</th>\n",
       "      <th>BlockNumber</th>\n",
       "      <th>StreetName</th>\n",
       "      <th>Agency</th>\n",
       "      <th>DateReported</th>\n",
       "      <th>HourReported</th>\n",
       "    </tr>\n",
       "  </thead>\n",
       "  <tbody>\n",
       "    <tr>\n",
       "      <th>0</th>\n",
       "      <td>1001</td>\n",
       "      <td>Assist Citizen - Misc</td>\n",
       "      <td>201900020274</td>\n",
       "      <td>1600.0</td>\n",
       "      <td>MADISON AVE</td>\n",
       "      <td>CPD</td>\n",
       "      <td>2019-07-20T07:17:08.000Z</td>\n",
       "      <td>317</td>\n",
       "    </tr>\n",
       "    <tr>\n",
       "      <th>1</th>\n",
       "      <td>1002</td>\n",
       "      <td>Shots Fired/Illegal Hunting</td>\n",
       "      <td>201900020273</td>\n",
       "      <td>NaN</td>\n",
       "      <td>10TH ST NW / ANDERSON ST</td>\n",
       "      <td>CPD</td>\n",
       "      <td>2019-07-20T06:47:42.000Z</td>\n",
       "      <td>247</td>\n",
       "    </tr>\n",
       "    <tr>\n",
       "      <th>2</th>\n",
       "      <td>1003</td>\n",
       "      <td>Shots Fired/Illegal Hunting</td>\n",
       "      <td>201900020272</td>\n",
       "      <td>800.0</td>\n",
       "      <td>ROSE HILL DR</td>\n",
       "      <td>CPD</td>\n",
       "      <td>2019-07-20T06:25:22.000Z</td>\n",
       "      <td>225</td>\n",
       "    </tr>\n",
       "    <tr>\n",
       "      <th>3</th>\n",
       "      <td>1004</td>\n",
       "      <td>Suspicious Activity</td>\n",
       "      <td>201900020258</td>\n",
       "      <td>100.0</td>\n",
       "      <td>MADISON LN</td>\n",
       "      <td>CPD</td>\n",
       "      <td>2019-07-20T03:46:00.000Z</td>\n",
       "      <td>2346</td>\n",
       "    </tr>\n",
       "    <tr>\n",
       "      <th>4</th>\n",
       "      <td>1005</td>\n",
       "      <td>Vandalism</td>\n",
       "      <td>201900020252</td>\n",
       "      <td>800.0</td>\n",
       "      <td>W MAIN ST</td>\n",
       "      <td>CPD</td>\n",
       "      <td>2019-07-20T02:36:17.000Z</td>\n",
       "      <td>2236</td>\n",
       "    </tr>\n",
       "  </tbody>\n",
       "</table>\n",
       "</div>"
      ],
      "text/plain": [
       "   RecordID                      Offense    IncidentID  BlockNumber  \\\n",
       "0      1001        Assist Citizen - Misc  201900020274       1600.0   \n",
       "1      1002  Shots Fired/Illegal Hunting  201900020273          NaN   \n",
       "2      1003  Shots Fired/Illegal Hunting  201900020272        800.0   \n",
       "3      1004          Suspicious Activity  201900020258        100.0   \n",
       "4      1005                    Vandalism  201900020252        800.0   \n",
       "\n",
       "                 StreetName Agency              DateReported  HourReported  \n",
       "0               MADISON AVE    CPD  2019-07-20T07:17:08.000Z           317  \n",
       "1  10TH ST NW / ANDERSON ST    CPD  2019-07-20T06:47:42.000Z           247  \n",
       "2              ROSE HILL DR    CPD  2019-07-20T06:25:22.000Z           225  \n",
       "3                MADISON LN    CPD  2019-07-20T03:46:00.000Z          2346  \n",
       "4                 W MAIN ST    CPD  2019-07-20T02:36:17.000Z          2236  "
      ]
     },
     "execution_count": 3,
     "metadata": {},
     "output_type": "execute_result"
    }
   ],
   "source": [
    "crime.head()"
   ]
  },
  {
   "cell_type": "code",
   "execution_count": 4,
   "metadata": {},
   "outputs": [
    {
     "data": {
      "text/plain": [
       "Index(['RecordID', 'Offense', 'IncidentID', 'BlockNumber', 'StreetName',\n",
       "       'Agency', 'DateReported', 'HourReported'],\n",
       "      dtype='object')"
      ]
     },
     "execution_count": 4,
     "metadata": {},
     "output_type": "execute_result"
    }
   ],
   "source": [
    "crime.columns"
   ]
  },
  {
   "cell_type": "code",
   "execution_count": 9,
   "metadata": {},
   "outputs": [
    {
     "data": {
      "text/plain": [
       "True"
      ]
     },
     "execution_count": 9,
     "metadata": {},
     "output_type": "execute_result"
    }
   ],
   "source": [
    "# RecordID are all unique values, doesn't tell us anything\n",
    "vals, counts = np.unique(crime['RecordID'], return_counts=True)\n",
    "np.all(counts == 1)"
   ]
  },
  {
   "cell_type": "code",
   "execution_count": 10,
   "metadata": {},
   "outputs": [
    {
     "data": {
      "text/plain": [
       "array(['CPD'], dtype=object)"
      ]
     },
     "execution_count": 10,
     "metadata": {},
     "output_type": "execute_result"
    }
   ],
   "source": [
    "# Agency is just CPD, doesn't tell us anything\n",
    "np.unique(crime['Agency'])"
   ]
  },
  {
   "cell_type": "code",
   "execution_count": 11,
   "metadata": {},
   "outputs": [
    {
     "data": {
      "text/plain": [
       "True"
      ]
     },
     "execution_count": 11,
     "metadata": {},
     "output_type": "execute_result"
    }
   ],
   "source": [
    "# IncidentID are all unique, doesn't tell us anything\n",
    "vals, counts = np.unique(crime['IncidentID'], return_counts=True)\n",
    "np.all(counts == 1)"
   ]
  },
  {
   "cell_type": "code",
   "execution_count": null,
   "metadata": {},
   "outputs": [],
   "source": [
    "# safe to remove RecordID, Agency, IncidentID\n"
   ]
  }
 ],
 "metadata": {
  "kernelspec": {
   "display_name": "Python 3",
   "language": "python",
   "name": "python3"
  },
  "language_info": {
   "codemirror_mode": {
    "name": "ipython",
    "version": 3
   },
   "file_extension": ".py",
   "mimetype": "text/x-python",
   "name": "python",
   "nbconvert_exporter": "python",
   "pygments_lexer": "ipython3",
   "version": "3.7.3"
  }
 },
 "nbformat": 4,
 "nbformat_minor": 2
}
