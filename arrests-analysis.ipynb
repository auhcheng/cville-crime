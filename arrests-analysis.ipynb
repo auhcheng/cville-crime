{
 "cells": [
  {
   "cell_type": "code",
   "execution_count": 1,
   "metadata": {},
   "outputs": [],
   "source": [
    "import pandas as pd\n",
    "import numpy as np\n",
    "import sklearn\n",
    "import matplotlib.pyplot as plt"
   ]
  },
  {
   "cell_type": "code",
   "execution_count": 2,
   "metadata": {},
   "outputs": [
    {
     "name": "stdout",
     "output_type": "stream",
     "text": [
      "<class 'pandas.core.frame.DataFrame'>\n",
      "RangeIndex: 17380 entries, 0 to 17379\n",
      "Data columns (total 12 columns):\n",
      "ArrestID              17380 non-null int64\n",
      "ArrestDatetime        17380 non-null object\n",
      "FirstName             17378 non-null object\n",
      "HouseNumber           15450 non-null float64\n",
      "LastName              17380 non-null object\n",
      "MiddleName            16236 non-null object\n",
      "NameSuffix            1610 non-null object\n",
      "Statute               17362 non-null object\n",
      "StatuteDescription    17362 non-null object\n",
      "Street                16497 non-null object\n",
      "Race                  17363 non-null object\n",
      "Sex                   17372 non-null object\n",
      "dtypes: float64(1), int64(1), object(10)\n",
      "memory usage: 1.6+ MB\n"
     ]
    }
   ],
   "source": [
    "arrests = pd.read_csv('Arrests.csv')\n",
    "arrests.info()"
   ]
  },
  {
   "cell_type": "code",
   "execution_count": 4,
   "metadata": {},
   "outputs": [
    {
     "data": {
      "text/html": [
       "<div>\n",
       "<style scoped>\n",
       "    .dataframe tbody tr th:only-of-type {\n",
       "        vertical-align: middle;\n",
       "    }\n",
       "\n",
       "    .dataframe tbody tr th {\n",
       "        vertical-align: top;\n",
       "    }\n",
       "\n",
       "    .dataframe thead th {\n",
       "        text-align: right;\n",
       "    }\n",
       "</style>\n",
       "<table border=\"1\" class=\"dataframe\">\n",
       "  <thead>\n",
       "    <tr style=\"text-align: right;\">\n",
       "      <th></th>\n",
       "      <th>ArrestID</th>\n",
       "      <th>ArrestDatetime</th>\n",
       "      <th>FirstName</th>\n",
       "      <th>HouseNumber</th>\n",
       "      <th>LastName</th>\n",
       "      <th>MiddleName</th>\n",
       "      <th>NameSuffix</th>\n",
       "      <th>Statute</th>\n",
       "      <th>StatuteDescription</th>\n",
       "      <th>Street</th>\n",
       "      <th>Race</th>\n",
       "      <th>Sex</th>\n",
       "    </tr>\n",
       "  </thead>\n",
       "  <tbody>\n",
       "    <tr>\n",
       "      <th>0</th>\n",
       "      <td>1001</td>\n",
       "      <td>2019-06-13T07:19:00.000Z</td>\n",
       "      <td>CHRISTOPHER</td>\n",
       "      <td>1505.0</td>\n",
       "      <td>STANLEY</td>\n",
       "      <td>DEAN</td>\n",
       "      <td>NaN</td>\n",
       "      <td>18.2-415</td>\n",
       "      <td>Disturbing the peace</td>\n",
       "      <td>UNIVERSITY AVE</td>\n",
       "      <td>Black</td>\n",
       "      <td>Female</td>\n",
       "    </tr>\n",
       "    <tr>\n",
       "      <th>1</th>\n",
       "      <td>1002</td>\n",
       "      <td>2019-06-13T06:59:00.000Z</td>\n",
       "      <td>GABRIEL</td>\n",
       "      <td>109.0</td>\n",
       "      <td>SANTOS</td>\n",
       "      <td>J</td>\n",
       "      <td>NaN</td>\n",
       "      <td>18.2-388</td>\n",
       "      <td>PROFANE SWEARING OR INTOXICATION IN PUBLIC</td>\n",
       "      <td>CULBRETH RD</td>\n",
       "      <td>White</td>\n",
       "      <td>Male</td>\n",
       "    </tr>\n",
       "    <tr>\n",
       "      <th>2</th>\n",
       "      <td>1003</td>\n",
       "      <td>2019-06-13T04:00:00.000Z</td>\n",
       "      <td>CAROLYN</td>\n",
       "      <td>350.0</td>\n",
       "      <td>RICE</td>\n",
       "      <td>PAIGE</td>\n",
       "      <td>NaN</td>\n",
       "      <td>18.2-111</td>\n",
       "      <td>Embezzlement</td>\n",
       "      <td>PARK ST</td>\n",
       "      <td>White</td>\n",
       "      <td>Female</td>\n",
       "    </tr>\n",
       "    <tr>\n",
       "      <th>3</th>\n",
       "      <td>1004</td>\n",
       "      <td>2019-06-13T00:02:00.000Z</td>\n",
       "      <td>MICHAEL</td>\n",
       "      <td>7051.0</td>\n",
       "      <td>COOPER</td>\n",
       "      <td>JEROME</td>\n",
       "      <td>NaN</td>\n",
       "      <td>19.2-306</td>\n",
       "      <td>PROBATION VIOLATION - TYPE NOT CLEAR FROM RECORD</td>\n",
       "      <td>LOUISA RD</td>\n",
       "      <td>Black</td>\n",
       "      <td>Male</td>\n",
       "    </tr>\n",
       "    <tr>\n",
       "      <th>4</th>\n",
       "      <td>1005</td>\n",
       "      <td>2019-06-12T18:15:00.000Z</td>\n",
       "      <td>Roy</td>\n",
       "      <td>606.0</td>\n",
       "      <td>Correll</td>\n",
       "      <td>Chapman</td>\n",
       "      <td>NaN</td>\n",
       "      <td>18.2-137(B)(i)</td>\n",
       "      <td>MONUMENT: INTENTIONAL DAMAGE, VALUE &lt;$1000</td>\n",
       "      <td>E MARKET ST</td>\n",
       "      <td>White</td>\n",
       "      <td>Male</td>\n",
       "    </tr>\n",
       "  </tbody>\n",
       "</table>\n",
       "</div>"
      ],
      "text/plain": [
       "   ArrestID            ArrestDatetime    FirstName  HouseNumber LastName  \\\n",
       "0      1001  2019-06-13T07:19:00.000Z  CHRISTOPHER       1505.0  STANLEY   \n",
       "1      1002  2019-06-13T06:59:00.000Z      GABRIEL        109.0   SANTOS   \n",
       "2      1003  2019-06-13T04:00:00.000Z      CAROLYN        350.0     RICE   \n",
       "3      1004  2019-06-13T00:02:00.000Z      MICHAEL       7051.0   COOPER   \n",
       "4      1005  2019-06-12T18:15:00.000Z          Roy        606.0  Correll   \n",
       "\n",
       "  MiddleName NameSuffix         Statute  \\\n",
       "0       DEAN        NaN        18.2-415   \n",
       "1          J        NaN        18.2-388   \n",
       "2      PAIGE        NaN        18.2-111   \n",
       "3     JEROME        NaN        19.2-306   \n",
       "4    Chapman        NaN  18.2-137(B)(i)   \n",
       "\n",
       "                                 StatuteDescription          Street   Race  \\\n",
       "0                              Disturbing the peace  UNIVERSITY AVE  Black   \n",
       "1        PROFANE SWEARING OR INTOXICATION IN PUBLIC     CULBRETH RD  White   \n",
       "2                                      Embezzlement         PARK ST  White   \n",
       "3  PROBATION VIOLATION - TYPE NOT CLEAR FROM RECORD       LOUISA RD  Black   \n",
       "4        MONUMENT: INTENTIONAL DAMAGE, VALUE <$1000     E MARKET ST  White   \n",
       "\n",
       "      Sex  \n",
       "0  Female  \n",
       "1    Male  \n",
       "2  Female  \n",
       "3    Male  \n",
       "4    Male  "
      ]
     },
     "execution_count": 4,
     "metadata": {},
     "output_type": "execute_result"
    }
   ],
   "source": [
    "arrests.head()"
   ]
  },
  {
   "cell_type": "code",
   "execution_count": 5,
   "metadata": {},
   "outputs": [
    {
     "data": {
      "text/plain": [
       "Index(['ArrestID', 'ArrestDatetime', 'FirstName', 'HouseNumber', 'LastName',\n",
       "       'MiddleName', 'NameSuffix', 'Statute', 'StatuteDescription', 'Street',\n",
       "       'Race', 'Sex'],\n",
       "      dtype='object')"
      ]
     },
     "execution_count": 5,
     "metadata": {},
     "output_type": "execute_result"
    }
   ],
   "source": [
    "arrests.columns"
   ]
  },
  {
   "cell_type": "code",
   "execution_count": null,
   "metadata": {},
   "outputs": [],
   "source": []
  }
 ],
 "metadata": {
  "kernelspec": {
   "display_name": "Python 3",
   "language": "python",
   "name": "python3"
  },
  "language_info": {
   "codemirror_mode": {
    "name": "ipython",
    "version": 3
   },
   "file_extension": ".py",
   "mimetype": "text/x-python",
   "name": "python",
   "nbconvert_exporter": "python",
   "pygments_lexer": "ipython3",
   "version": "3.7.3"
  }
 },
 "nbformat": 4,
 "nbformat_minor": 2
}
