{
 "cells": [
  {
   "cell_type": "code",
   "execution_count": 1,
   "metadata": {},
   "outputs": [],
   "source": [
    "import pandas as pd\n",
    "import numpy as np\n",
    "import sklearn as sk\n",
    "import matplotlib.pyplot as plt"
   ]
  },
  {
   "cell_type": "code",
   "execution_count": 2,
   "metadata": {},
   "outputs": [],
   "source": [
    "arrests = pd.read_csv('Arrests.csv')\n",
    "arcgis_output = pd.read_csv('arrests-arcgis-output.csv', low_memory=False)"
   ]
  },
  {
   "cell_type": "code",
   "execution_count": 29,
   "metadata": {},
   "outputs": [],
   "source": [
    "latlong = arcgis_output[['X', 'Y']]\n",
    "df = pd.concat([arrests, latlong], axis=1)"
   ]
  },
  {
   "cell_type": "code",
   "execution_count": 31,
   "metadata": {},
   "outputs": [
    {
     "data": {
      "text/html": [
       "<div>\n",
       "<style scoped>\n",
       "    .dataframe tbody tr th:only-of-type {\n",
       "        vertical-align: middle;\n",
       "    }\n",
       "\n",
       "    .dataframe tbody tr th {\n",
       "        vertical-align: top;\n",
       "    }\n",
       "\n",
       "    .dataframe thead th {\n",
       "        text-align: right;\n",
       "    }\n",
       "</style>\n",
       "<table border=\"1\" class=\"dataframe\">\n",
       "  <thead>\n",
       "    <tr style=\"text-align: right;\">\n",
       "      <th></th>\n",
       "      <th>ArrestID</th>\n",
       "      <th>ArrestDatetime</th>\n",
       "      <th>FirstName</th>\n",
       "      <th>HouseNumber</th>\n",
       "      <th>LastName</th>\n",
       "      <th>MiddleName</th>\n",
       "      <th>NameSuffix</th>\n",
       "      <th>Statute</th>\n",
       "      <th>StatuteDescription</th>\n",
       "      <th>Street</th>\n",
       "      <th>Race</th>\n",
       "      <th>Sex</th>\n",
       "      <th>X</th>\n",
       "      <th>Y</th>\n",
       "    </tr>\n",
       "  </thead>\n",
       "  <tbody>\n",
       "    <tr>\n",
       "      <th>0</th>\n",
       "      <td>1001</td>\n",
       "      <td>2019-06-13T07:19:00.000Z</td>\n",
       "      <td>CHRISTOPHER</td>\n",
       "      <td>1505.0</td>\n",
       "      <td>STANLEY</td>\n",
       "      <td>DEAN</td>\n",
       "      <td>NaN</td>\n",
       "      <td>18.2-415</td>\n",
       "      <td>Disturbing the peace</td>\n",
       "      <td>UNIVERSITY AVE</td>\n",
       "      <td>Black</td>\n",
       "      <td>Female</td>\n",
       "      <td>-78.500668</td>\n",
       "      <td>38.035105</td>\n",
       "    </tr>\n",
       "    <tr>\n",
       "      <th>1</th>\n",
       "      <td>1002</td>\n",
       "      <td>2019-06-13T06:59:00.000Z</td>\n",
       "      <td>GABRIEL</td>\n",
       "      <td>109.0</td>\n",
       "      <td>SANTOS</td>\n",
       "      <td>J</td>\n",
       "      <td>NaN</td>\n",
       "      <td>18.2-388</td>\n",
       "      <td>PROFANE SWEARING OR INTOXICATION IN PUBLIC</td>\n",
       "      <td>CULBRETH RD</td>\n",
       "      <td>White</td>\n",
       "      <td>Male</td>\n",
       "      <td>-78.504152</td>\n",
       "      <td>38.039890</td>\n",
       "    </tr>\n",
       "    <tr>\n",
       "      <th>2</th>\n",
       "      <td>1003</td>\n",
       "      <td>2019-06-13T04:00:00.000Z</td>\n",
       "      <td>CAROLYN</td>\n",
       "      <td>350.0</td>\n",
       "      <td>RICE</td>\n",
       "      <td>PAIGE</td>\n",
       "      <td>NaN</td>\n",
       "      <td>18.2-111</td>\n",
       "      <td>Embezzlement</td>\n",
       "      <td>PARK ST</td>\n",
       "      <td>White</td>\n",
       "      <td>Female</td>\n",
       "      <td>-78.476634</td>\n",
       "      <td>38.031669</td>\n",
       "    </tr>\n",
       "    <tr>\n",
       "      <th>3</th>\n",
       "      <td>1004</td>\n",
       "      <td>2019-06-13T00:02:00.000Z</td>\n",
       "      <td>MICHAEL</td>\n",
       "      <td>7051.0</td>\n",
       "      <td>COOPER</td>\n",
       "      <td>JEROME</td>\n",
       "      <td>NaN</td>\n",
       "      <td>19.2-306</td>\n",
       "      <td>PROBATION VIOLATION - TYPE NOT CLEAR FROM RECORD</td>\n",
       "      <td>LOUISA RD</td>\n",
       "      <td>Black</td>\n",
       "      <td>Male</td>\n",
       "      <td>-78.477332</td>\n",
       "      <td>38.030289</td>\n",
       "    </tr>\n",
       "    <tr>\n",
       "      <th>4</th>\n",
       "      <td>1005</td>\n",
       "      <td>2019-06-12T18:15:00.000Z</td>\n",
       "      <td>Roy</td>\n",
       "      <td>606.0</td>\n",
       "      <td>Correll</td>\n",
       "      <td>Chapman</td>\n",
       "      <td>NaN</td>\n",
       "      <td>18.2-137(B)(i)</td>\n",
       "      <td>MONUMENT: INTENTIONAL DAMAGE, VALUE &lt;$1000</td>\n",
       "      <td>E MARKET ST</td>\n",
       "      <td>White</td>\n",
       "      <td>Male</td>\n",
       "      <td>-78.477332</td>\n",
       "      <td>38.030289</td>\n",
       "    </tr>\n",
       "  </tbody>\n",
       "</table>\n",
       "</div>"
      ],
      "text/plain": [
       "   ArrestID            ArrestDatetime    FirstName  HouseNumber LastName  \\\n",
       "0      1001  2019-06-13T07:19:00.000Z  CHRISTOPHER       1505.0  STANLEY   \n",
       "1      1002  2019-06-13T06:59:00.000Z      GABRIEL        109.0   SANTOS   \n",
       "2      1003  2019-06-13T04:00:00.000Z      CAROLYN        350.0     RICE   \n",
       "3      1004  2019-06-13T00:02:00.000Z      MICHAEL       7051.0   COOPER   \n",
       "4      1005  2019-06-12T18:15:00.000Z          Roy        606.0  Correll   \n",
       "\n",
       "  MiddleName NameSuffix         Statute  \\\n",
       "0       DEAN        NaN        18.2-415   \n",
       "1          J        NaN        18.2-388   \n",
       "2      PAIGE        NaN        18.2-111   \n",
       "3     JEROME        NaN        19.2-306   \n",
       "4    Chapman        NaN  18.2-137(B)(i)   \n",
       "\n",
       "                                 StatuteDescription          Street   Race  \\\n",
       "0                              Disturbing the peace  UNIVERSITY AVE  Black   \n",
       "1        PROFANE SWEARING OR INTOXICATION IN PUBLIC     CULBRETH RD  White   \n",
       "2                                      Embezzlement         PARK ST  White   \n",
       "3  PROBATION VIOLATION - TYPE NOT CLEAR FROM RECORD       LOUISA RD  Black   \n",
       "4        MONUMENT: INTENTIONAL DAMAGE, VALUE <$1000     E MARKET ST  White   \n",
       "\n",
       "      Sex          X          Y  \n",
       "0  Female -78.500668  38.035105  \n",
       "1    Male -78.504152  38.039890  \n",
       "2  Female -78.476634  38.031669  \n",
       "3    Male -78.477332  38.030289  \n",
       "4    Male -78.477332  38.030289  "
      ]
     },
     "execution_count": 31,
     "metadata": {},
     "output_type": "execute_result"
    }
   ],
   "source": [
    "df.head()"
   ]
  },
  {
   "cell_type": "code",
   "execution_count": 32,
   "metadata": {},
   "outputs": [
    {
     "name": "stdout",
     "output_type": "stream",
     "text": [
      "<class 'pandas.core.frame.DataFrame'>\n",
      "RangeIndex: 17380 entries, 0 to 17379\n",
      "Data columns (total 14 columns):\n",
      "ArrestID              17380 non-null int64\n",
      "ArrestDatetime        17380 non-null object\n",
      "FirstName             17378 non-null object\n",
      "HouseNumber           15450 non-null float64\n",
      "LastName              17380 non-null object\n",
      "MiddleName            16236 non-null object\n",
      "NameSuffix            1610 non-null object\n",
      "Statute               17362 non-null object\n",
      "StatuteDescription    17362 non-null object\n",
      "Street                16497 non-null object\n",
      "Race                  17363 non-null object\n",
      "Sex                   17372 non-null object\n",
      "X                     17380 non-null float64\n",
      "Y                     17380 non-null float64\n",
      "dtypes: float64(3), int64(1), object(10)\n",
      "memory usage: 1.9+ MB\n"
     ]
    }
   ],
   "source": [
    "df.info()"
   ]
  },
  {
   "cell_type": "markdown",
   "metadata": {},
   "source": [
    "To convert the date, we will split it into two columns. One will be a float64 in units of months (do we ignore the year?). The other will be a float64 in units of hours."
   ]
  },
  {
   "cell_type": "code",
   "execution_count": 1,
   "metadata": {},
   "outputs": [],
   "source": [
    "def null_values(df, return_table=True):\n",
    "    mis_val = df.isnull().sum()\n",
    "    mis_val_percent = 100 * mis_val / len(df)\n",
    "    mis_val_table = pd.concat([mis_val, mis_val_percent], axis=1)\n",
    "    mis_val_table_ren_columns = mis_val_table.rename(\n",
    "    columns = {0 : 'Missing Values', 1 : '% of Total Values'})\n",
    "    mis_val_table_ren_columns = mis_val_table_ren_columns[\n",
    "        mis_val_table_ren_columns.iloc[:, 1] != 0].sort_values(\n",
    "        '% of Total Values', ascending=False).round(4)\n",
    "    print(\"There are\", len(df.columns), \"columns in total.\")\n",
    "    print(\"There are \" + str(mis_val_table_ren_columns.shape[0]) +\n",
    "              \" columns that have missing values.\")\n",
    "    if return_table:\n",
    "        return mis_val_table_ren_columns"
   ]
  },
  {
   "cell_type": "markdown",
   "metadata": {},
   "source": [
    "The only nonmissing features are the ID, the date and time, and the last name."
   ]
  },
  {
   "cell_type": "code",
   "execution_count": 34,
   "metadata": {},
   "outputs": [
    {
     "name": "stdout",
     "output_type": "stream",
     "text": [
      "There are 12 columns in total.\n",
      "There are 9 columns that have missing values.\n"
     ]
    },
    {
     "data": {
      "text/html": [
       "<div>\n",
       "<style scoped>\n",
       "    .dataframe tbody tr th:only-of-type {\n",
       "        vertical-align: middle;\n",
       "    }\n",
       "\n",
       "    .dataframe tbody tr th {\n",
       "        vertical-align: top;\n",
       "    }\n",
       "\n",
       "    .dataframe thead th {\n",
       "        text-align: right;\n",
       "    }\n",
       "</style>\n",
       "<table border=\"1\" class=\"dataframe\">\n",
       "  <thead>\n",
       "    <tr style=\"text-align: right;\">\n",
       "      <th></th>\n",
       "      <th>Missing Values</th>\n",
       "      <th>% of Total Values</th>\n",
       "    </tr>\n",
       "  </thead>\n",
       "  <tbody>\n",
       "    <tr>\n",
       "      <th>NameSuffix</th>\n",
       "      <td>15770</td>\n",
       "      <td>90.7365</td>\n",
       "    </tr>\n",
       "    <tr>\n",
       "      <th>HouseNumber</th>\n",
       "      <td>1930</td>\n",
       "      <td>11.1047</td>\n",
       "    </tr>\n",
       "    <tr>\n",
       "      <th>MiddleName</th>\n",
       "      <td>1144</td>\n",
       "      <td>6.5823</td>\n",
       "    </tr>\n",
       "    <tr>\n",
       "      <th>Street</th>\n",
       "      <td>883</td>\n",
       "      <td>5.0806</td>\n",
       "    </tr>\n",
       "    <tr>\n",
       "      <th>Statute</th>\n",
       "      <td>18</td>\n",
       "      <td>0.1036</td>\n",
       "    </tr>\n",
       "    <tr>\n",
       "      <th>StatuteDescription</th>\n",
       "      <td>18</td>\n",
       "      <td>0.1036</td>\n",
       "    </tr>\n",
       "    <tr>\n",
       "      <th>Race</th>\n",
       "      <td>17</td>\n",
       "      <td>0.0978</td>\n",
       "    </tr>\n",
       "    <tr>\n",
       "      <th>Sex</th>\n",
       "      <td>8</td>\n",
       "      <td>0.0460</td>\n",
       "    </tr>\n",
       "    <tr>\n",
       "      <th>FirstName</th>\n",
       "      <td>2</td>\n",
       "      <td>0.0115</td>\n",
       "    </tr>\n",
       "  </tbody>\n",
       "</table>\n",
       "</div>"
      ],
      "text/plain": [
       "                    Missing Values  % of Total Values\n",
       "NameSuffix                   15770            90.7365\n",
       "HouseNumber                   1930            11.1047\n",
       "MiddleName                    1144             6.5823\n",
       "Street                         883             5.0806\n",
       "Statute                         18             0.1036\n",
       "StatuteDescription              18             0.1036\n",
       "Race                            17             0.0978\n",
       "Sex                              8             0.0460\n",
       "FirstName                        2             0.0115"
      ]
     },
     "execution_count": 34,
     "metadata": {},
     "output_type": "execute_result"
    }
   ],
   "source": [
    "miss_values = null_values(arrests)\n",
    "pd.set_option('display.max_rows', None)\n",
    "miss_values"
   ]
  },
  {
   "cell_type": "markdown",
   "metadata": {},
   "source": [
    "To impute missing data in 'Sex', all nan values should be replaced with 'Unknown'."
   ]
  },
  {
   "cell_type": "code",
   "execution_count": 7,
   "metadata": {},
   "outputs": [
    {
     "data": {
      "text/plain": [
       "array(['Female', 'Male', nan, 'Unknown'], dtype=object)"
      ]
     },
     "execution_count": 7,
     "metadata": {},
     "output_type": "execute_result"
    }
   ],
   "source": [
    "arrests['Sex'].unique()"
   ]
  },
  {
   "cell_type": "markdown",
   "metadata": {},
   "source": [
    "The two rows without first names are interesting. In the row with ID 2262, the last name is a placeholder 'JOHN DOE'."
   ]
  },
  {
   "cell_type": "code",
   "execution_count": 23,
   "metadata": {},
   "outputs": [
    {
     "data": {
      "text/html": [
       "<div>\n",
       "<style scoped>\n",
       "    .dataframe tbody tr th:only-of-type {\n",
       "        vertical-align: middle;\n",
       "    }\n",
       "\n",
       "    .dataframe tbody tr th {\n",
       "        vertical-align: top;\n",
       "    }\n",
       "\n",
       "    .dataframe thead th {\n",
       "        text-align: right;\n",
       "    }\n",
       "</style>\n",
       "<table border=\"1\" class=\"dataframe\">\n",
       "  <thead>\n",
       "    <tr style=\"text-align: right;\">\n",
       "      <th></th>\n",
       "      <th>ArrestID</th>\n",
       "      <th>ArrestDatetime</th>\n",
       "      <th>FirstName</th>\n",
       "      <th>HouseNumber</th>\n",
       "      <th>LastName</th>\n",
       "      <th>MiddleName</th>\n",
       "      <th>NameSuffix</th>\n",
       "      <th>Statute</th>\n",
       "      <th>StatuteDescription</th>\n",
       "      <th>Street</th>\n",
       "      <th>Race</th>\n",
       "      <th>Sex</th>\n",
       "    </tr>\n",
       "  </thead>\n",
       "  <tbody>\n",
       "    <tr>\n",
       "      <td>696</td>\n",
       "      <td>1697</td>\n",
       "      <td>2019-03-15T00:38:00.000Z</td>\n",
       "      <td>NaN</td>\n",
       "      <td>NaN</td>\n",
       "      <td>PURPLERAIN</td>\n",
       "      <td>NaN</td>\n",
       "      <td>NaN</td>\n",
       "      <td>905</td>\n",
       "      <td>DRUNKENESS</td>\n",
       "      <td>BROWN ST</td>\n",
       "      <td>Black</td>\n",
       "      <td>Female</td>\n",
       "    </tr>\n",
       "    <tr>\n",
       "      <td>5261</td>\n",
       "      <td>2262</td>\n",
       "      <td>2018-12-24T13:06:00.000Z</td>\n",
       "      <td>NaN</td>\n",
       "      <td>1131.0</td>\n",
       "      <td>JOHN DOE</td>\n",
       "      <td>NaN</td>\n",
       "      <td>NaN</td>\n",
       "      <td>18.2-388</td>\n",
       "      <td>PROFANE SWEARING OR INTOXICATION IN PUBLIC</td>\n",
       "      <td>5TH ST SW</td>\n",
       "      <td>White</td>\n",
       "      <td>Male</td>\n",
       "    </tr>\n",
       "  </tbody>\n",
       "</table>\n",
       "</div>"
      ],
      "text/plain": [
       "      ArrestID            ArrestDatetime FirstName  HouseNumber    LastName  \\\n",
       "696       1697  2019-03-15T00:38:00.000Z       NaN          NaN  PURPLERAIN   \n",
       "5261      2262  2018-12-24T13:06:00.000Z       NaN       1131.0    JOHN DOE   \n",
       "\n",
       "     MiddleName NameSuffix   Statute  \\\n",
       "696         NaN        NaN       905   \n",
       "5261        NaN        NaN  18.2-388   \n",
       "\n",
       "                              StatuteDescription     Street   Race     Sex  \n",
       "696                                   DRUNKENESS   BROWN ST  Black  Female  \n",
       "5261  PROFANE SWEARING OR INTOXICATION IN PUBLIC  5TH ST SW  White    Male  "
      ]
     },
     "execution_count": 23,
     "metadata": {},
     "output_type": "execute_result"
    }
   ],
   "source": [
    "arrests.loc[arrests['FirstName'] != arrests['FirstName']]"
   ]
  },
  {
   "cell_type": "markdown",
   "metadata": {},
   "source": [
    "What are 'nwt', 'doc', and 'jpg' doing in the 'Race' feature?"
   ]
  },
  {
   "cell_type": "code",
   "execution_count": null,
   "metadata": {},
   "outputs": [],
   "source": [
    "arrests.loc[arrests['Race'] == 'nwt']"
   ]
  },
  {
   "cell_type": "code",
   "execution_count": null,
   "metadata": {
    "scrolled": true
   },
   "outputs": [],
   "source": [
    "arrests.loc[arrests['Race'] == 'doc']"
   ]
  },
  {
   "cell_type": "markdown",
   "metadata": {},
   "source": [
    "We see that there are multiple descriptions that correspond to the same statute. Therefore, we drop the StatuteDescription feature because it does not add anything to the data.\n",
    "\n",
    "If we keep the names, it is reasonable to perform feature engineering that assigns a unique number to a full name, including the suffix if applicable, since we see that one person can and often commits more than one offense. We will have to convert every name to uppercase, since the capitalization is inconsistent.\n",
    "\n",
    "There are 472 unique statutes. A OneHotEncoder will result in the number of features increasing to about 480."
   ]
  },
  {
   "cell_type": "code",
   "execution_count": 24,
   "metadata": {},
   "outputs": [
    {
     "data": {
      "text/plain": [
       "array([nan, 'Jr', 'II', 'III', 'Sr', 'IV'], dtype=object)"
      ]
     },
     "execution_count": 24,
     "metadata": {},
     "output_type": "execute_result"
    }
   ],
   "source": [
    "arrests['NameSuffix'].unique()"
   ]
  },
  {
   "cell_type": "code",
   "execution_count": null,
   "metadata": {},
   "outputs": [],
   "source": []
  },
  {
   "cell_type": "code",
   "execution_count": null,
   "metadata": {},
   "outputs": [],
   "source": [
    "arrests['StatuteDescription'].value_counts()"
   ]
  },
  {
   "cell_type": "code",
   "execution_count": null,
   "metadata": {},
   "outputs": [],
   "source": [
    "arrests['Statute'].value_counts()"
   ]
  },
  {
   "cell_type": "code",
   "execution_count": 19,
   "metadata": {},
   "outputs": [
    {
     "data": {
      "text/plain": [
       "472"
      ]
     },
     "execution_count": 19,
     "metadata": {},
     "output_type": "execute_result"
    }
   ],
   "source": [
    "arrests['Statute'].nunique()"
   ]
  },
  {
   "cell_type": "markdown",
   "metadata": {},
   "source": [
    "## Data cleaning"
   ]
  },
  {
   "cell_type": "markdown",
   "metadata": {},
   "source": [
    "We drop the ArrestID and StatuteDescription because the former is useless and the latter is redundant with Statute. In fact, there are many descriptions that can potentially refer to the same statute. We also drop the names since there are too many unique names for an analysis to be useful with them kept."
   ]
  },
  {
   "cell_type": "code",
   "execution_count": 1,
   "metadata": {},
   "outputs": [],
   "source": [
    "import pandas as pd\n",
    "import numpy as np\n",
    "import sklearn as sk\n",
    "import matplotlib.pyplot as plt"
   ]
  },
  {
   "cell_type": "code",
   "execution_count": 2,
   "metadata": {},
   "outputs": [],
   "source": [
    "from sklearn.preprocessing import OneHotEncoder, StandardScaler\n",
    "from sklearn.pipeline import Pipeline"
   ]
  },
  {
   "cell_type": "code",
   "execution_count": 3,
   "metadata": {},
   "outputs": [],
   "source": [
    "def null_values(df, return_table=True):\n",
    "    mis_val = df.isnull().sum()\n",
    "    mis_val_percent = 100 * mis_val / len(df)\n",
    "    mis_val_table = pd.concat([mis_val, mis_val_percent], axis=1)\n",
    "    mis_val_table_ren_columns = mis_val_table.rename(\n",
    "    columns = {0 : 'Missing Values', 1 : '% of Total Values'})\n",
    "    mis_val_table_ren_columns = mis_val_table_ren_columns[\n",
    "        mis_val_table_ren_columns.iloc[:, 1] != 0].sort_values(\n",
    "        '% of Total Values', ascending=False).round(4)\n",
    "    print(\"There are\", len(df.columns), \"columns in total.\")\n",
    "    print(\"There are \" + str(mis_val_table_ren_columns.shape[0]) +\n",
    "              \" columns that have missing values.\")\n",
    "    if return_table:\n",
    "        return mis_val_table_ren_columns"
   ]
  },
  {
   "cell_type": "code",
   "execution_count": 4,
   "metadata": {},
   "outputs": [],
   "source": [
    "arrests = pd.read_csv('Arrests.csv')\n",
    "arcgis_output = pd.read_csv('arrests-arcgis-output.csv', low_memory=False)"
   ]
  },
  {
   "cell_type": "code",
   "execution_count": 5,
   "metadata": {},
   "outputs": [],
   "source": [
    "latlong = arcgis_output[['X', 'Y']]\n",
    "df = pd.concat([arrests, latlong], axis=1)"
   ]
  },
  {
   "cell_type": "markdown",
   "metadata": {},
   "source": [
    "The statute description is redundant, but we will need to manually examine its contents to preprocess the statutes feature before dropping the descriptions."
   ]
  },
  {
   "cell_type": "code",
   "execution_count": 6,
   "metadata": {},
   "outputs": [],
   "source": [
    "useless_and_redundant = ['ArrestID']\n",
    "names = ['FirstName', 'LastName', 'MiddleName', 'NameSuffix']\n",
    "df.drop(useless_and_redundant, axis=1, inplace=True)\n",
    "df.drop(names, axis=1, inplace=True)"
   ]
  },
  {
   "cell_type": "code",
   "execution_count": 7,
   "metadata": {},
   "outputs": [],
   "source": [
    "df['Year'] = pd.to_datetime(df['ArrestDatetime']).apply(\n",
    "    lambda x: float(x.strftime('%Y')) if x == x else np.nan)\n",
    "df['Month'] = pd.to_datetime(df['ArrestDatetime']).apply(\n",
    "    lambda x: float(x.strftime('%m')) if x == x else np.nan) \n",
    "df['Time'] = pd.to_datetime(df['ArrestDatetime']).apply(\n",
    "    lambda x: float(x.strftime('%H')) + 1/60 * float(x.strftime('%M')) + 1/3600 * float(x.strftime('%S'))\n",
    "    if x == x else np.nan)"
   ]
  },
  {
   "cell_type": "code",
   "execution_count": 8,
   "metadata": {},
   "outputs": [],
   "source": [
    "df.drop(['ArrestDatetime', 'HouseNumber', 'Street'], axis=1, inplace=True)"
   ]
  },
  {
   "cell_type": "markdown",
   "metadata": {},
   "source": [
    "We will use OneHotEncoding for race and sex."
   ]
  },
  {
   "cell_type": "code",
   "execution_count": 9,
   "metadata": {},
   "outputs": [],
   "source": [
    "onehot = OneHotEncoder()\n",
    "\n",
    "def convert_races(x):\n",
    "    if x == 'Unknown' or x == 'nwt' or x == 'doc' or x == 'jpg' or x != x:\n",
    "        return 'Unknown Race'\n",
    "    else:\n",
    "        return x\n",
    "\n",
    "def convert_sex(x):\n",
    "    if x == 'Unknown' or x != x:\n",
    "        return 'Unknown Sex'\n",
    "    else:\n",
    "        return x\n",
    "    \n",
    "df['Race'] = df['Race'].apply(convert_races)    \n",
    "df['Sex'] = df['Sex'].apply(convert_sex)\n",
    "\n",
    "cat_onehot = df[['Race', 'Sex']]\n",
    "mtx_onehot = onehot.fit_transform(cat_onehot).toarray()\n",
    "df_onehot = pd.DataFrame(mtx_onehot, columns=np.concatenate(onehot.categories_))\n",
    "df.drop(['Race', 'Sex'], axis=1, inplace=True)\n",
    "df = pd.concat([df, df_onehot], axis=1)"
   ]
  },
  {
   "cell_type": "code",
   "execution_count": 10,
   "metadata": {},
   "outputs": [
    {
     "data": {
      "text/html": [
       "<div>\n",
       "<style scoped>\n",
       "    .dataframe tbody tr th:only-of-type {\n",
       "        vertical-align: middle;\n",
       "    }\n",
       "\n",
       "    .dataframe tbody tr th {\n",
       "        vertical-align: top;\n",
       "    }\n",
       "\n",
       "    .dataframe thead th {\n",
       "        text-align: right;\n",
       "    }\n",
       "</style>\n",
       "<table border=\"1\" class=\"dataframe\">\n",
       "  <thead>\n",
       "    <tr style=\"text-align: right;\">\n",
       "      <th></th>\n",
       "      <th>Statute</th>\n",
       "      <th>StatuteDescription</th>\n",
       "      <th>X</th>\n",
       "      <th>Y</th>\n",
       "      <th>Year</th>\n",
       "      <th>Month</th>\n",
       "      <th>Time</th>\n",
       "      <th>American Indian/Alaskan Native</th>\n",
       "      <th>Asian or Pacific Islander</th>\n",
       "      <th>Black</th>\n",
       "      <th>Unknown Race</th>\n",
       "      <th>White</th>\n",
       "      <th>Female</th>\n",
       "      <th>Male</th>\n",
       "      <th>Unknown Sex</th>\n",
       "    </tr>\n",
       "  </thead>\n",
       "  <tbody>\n",
       "    <tr>\n",
       "      <th>0</th>\n",
       "      <td>18.2-415</td>\n",
       "      <td>Disturbing the peace</td>\n",
       "      <td>-78.500668</td>\n",
       "      <td>38.035105</td>\n",
       "      <td>2019.0</td>\n",
       "      <td>6.0</td>\n",
       "      <td>7.316667</td>\n",
       "      <td>0.0</td>\n",
       "      <td>0.0</td>\n",
       "      <td>1.0</td>\n",
       "      <td>0.0</td>\n",
       "      <td>0.0</td>\n",
       "      <td>1.0</td>\n",
       "      <td>0.0</td>\n",
       "      <td>0.0</td>\n",
       "    </tr>\n",
       "    <tr>\n",
       "      <th>1</th>\n",
       "      <td>18.2-388</td>\n",
       "      <td>PROFANE SWEARING OR INTOXICATION IN PUBLIC</td>\n",
       "      <td>-78.504152</td>\n",
       "      <td>38.039890</td>\n",
       "      <td>2019.0</td>\n",
       "      <td>6.0</td>\n",
       "      <td>6.983333</td>\n",
       "      <td>0.0</td>\n",
       "      <td>0.0</td>\n",
       "      <td>0.0</td>\n",
       "      <td>0.0</td>\n",
       "      <td>1.0</td>\n",
       "      <td>0.0</td>\n",
       "      <td>1.0</td>\n",
       "      <td>0.0</td>\n",
       "    </tr>\n",
       "    <tr>\n",
       "      <th>2</th>\n",
       "      <td>18.2-111</td>\n",
       "      <td>Embezzlement</td>\n",
       "      <td>-78.476634</td>\n",
       "      <td>38.031669</td>\n",
       "      <td>2019.0</td>\n",
       "      <td>6.0</td>\n",
       "      <td>4.000000</td>\n",
       "      <td>0.0</td>\n",
       "      <td>0.0</td>\n",
       "      <td>0.0</td>\n",
       "      <td>0.0</td>\n",
       "      <td>1.0</td>\n",
       "      <td>1.0</td>\n",
       "      <td>0.0</td>\n",
       "      <td>0.0</td>\n",
       "    </tr>\n",
       "    <tr>\n",
       "      <th>3</th>\n",
       "      <td>19.2-306</td>\n",
       "      <td>PROBATION VIOLATION - TYPE NOT CLEAR FROM RECORD</td>\n",
       "      <td>-78.477332</td>\n",
       "      <td>38.030289</td>\n",
       "      <td>2019.0</td>\n",
       "      <td>6.0</td>\n",
       "      <td>0.033333</td>\n",
       "      <td>0.0</td>\n",
       "      <td>0.0</td>\n",
       "      <td>1.0</td>\n",
       "      <td>0.0</td>\n",
       "      <td>0.0</td>\n",
       "      <td>0.0</td>\n",
       "      <td>1.0</td>\n",
       "      <td>0.0</td>\n",
       "    </tr>\n",
       "    <tr>\n",
       "      <th>4</th>\n",
       "      <td>18.2-137(B)(i)</td>\n",
       "      <td>MONUMENT: INTENTIONAL DAMAGE, VALUE &lt;$1000</td>\n",
       "      <td>-78.477332</td>\n",
       "      <td>38.030289</td>\n",
       "      <td>2019.0</td>\n",
       "      <td>6.0</td>\n",
       "      <td>18.250000</td>\n",
       "      <td>0.0</td>\n",
       "      <td>0.0</td>\n",
       "      <td>0.0</td>\n",
       "      <td>0.0</td>\n",
       "      <td>1.0</td>\n",
       "      <td>0.0</td>\n",
       "      <td>1.0</td>\n",
       "      <td>0.0</td>\n",
       "    </tr>\n",
       "  </tbody>\n",
       "</table>\n",
       "</div>"
      ],
      "text/plain": [
       "          Statute                                StatuteDescription  \\\n",
       "0        18.2-415                              Disturbing the peace   \n",
       "1        18.2-388        PROFANE SWEARING OR INTOXICATION IN PUBLIC   \n",
       "2        18.2-111                                      Embezzlement   \n",
       "3        19.2-306  PROBATION VIOLATION - TYPE NOT CLEAR FROM RECORD   \n",
       "4  18.2-137(B)(i)        MONUMENT: INTENTIONAL DAMAGE, VALUE <$1000   \n",
       "\n",
       "           X          Y    Year  Month       Time  \\\n",
       "0 -78.500668  38.035105  2019.0    6.0   7.316667   \n",
       "1 -78.504152  38.039890  2019.0    6.0   6.983333   \n",
       "2 -78.476634  38.031669  2019.0    6.0   4.000000   \n",
       "3 -78.477332  38.030289  2019.0    6.0   0.033333   \n",
       "4 -78.477332  38.030289  2019.0    6.0  18.250000   \n",
       "\n",
       "   American Indian/Alaskan Native  Asian or Pacific Islander  Black  \\\n",
       "0                             0.0                        0.0    1.0   \n",
       "1                             0.0                        0.0    0.0   \n",
       "2                             0.0                        0.0    0.0   \n",
       "3                             0.0                        0.0    1.0   \n",
       "4                             0.0                        0.0    0.0   \n",
       "\n",
       "   Unknown Race  White  Female  Male  Unknown Sex  \n",
       "0           0.0    0.0     1.0   0.0          0.0  \n",
       "1           0.0    1.0     0.0   1.0          0.0  \n",
       "2           0.0    1.0     1.0   0.0          0.0  \n",
       "3           0.0    0.0     0.0   1.0          0.0  \n",
       "4           0.0    1.0     0.0   1.0          0.0  "
      ]
     },
     "execution_count": 10,
     "metadata": {},
     "output_type": "execute_result"
    }
   ],
   "source": [
    "df.head()"
   ]
  },
  {
   "cell_type": "code",
   "execution_count": 10,
   "metadata": {},
   "outputs": [
    {
     "name": "stdout",
     "output_type": "stream",
     "text": [
      "There are 15 columns in total.\n",
      "There are 2 columns that have missing values.\n"
     ]
    },
    {
     "data": {
      "text/html": [
       "<div>\n",
       "<style scoped>\n",
       "    .dataframe tbody tr th:only-of-type {\n",
       "        vertical-align: middle;\n",
       "    }\n",
       "\n",
       "    .dataframe tbody tr th {\n",
       "        vertical-align: top;\n",
       "    }\n",
       "\n",
       "    .dataframe thead th {\n",
       "        text-align: right;\n",
       "    }\n",
       "</style>\n",
       "<table border=\"1\" class=\"dataframe\">\n",
       "  <thead>\n",
       "    <tr style=\"text-align: right;\">\n",
       "      <th></th>\n",
       "      <th>Missing Values</th>\n",
       "      <th>% of Total Values</th>\n",
       "    </tr>\n",
       "  </thead>\n",
       "  <tbody>\n",
       "    <tr>\n",
       "      <th>Statute</th>\n",
       "      <td>18</td>\n",
       "      <td>0.1036</td>\n",
       "    </tr>\n",
       "    <tr>\n",
       "      <th>StatuteDescription</th>\n",
       "      <td>18</td>\n",
       "      <td>0.1036</td>\n",
       "    </tr>\n",
       "  </tbody>\n",
       "</table>\n",
       "</div>"
      ],
      "text/plain": [
       "                    Missing Values  % of Total Values\n",
       "Statute                         18             0.1036\n",
       "StatuteDescription              18             0.1036"
      ]
     },
     "execution_count": 10,
     "metadata": {},
     "output_type": "execute_result"
    }
   ],
   "source": [
    "miss_values = null_values(df)\n",
    "pd.set_option('display.max_rows', None)\n",
    "miss_values"
   ]
  },
  {
   "cell_type": "markdown",
   "metadata": {},
   "source": [
    "We shall remove those entries with missing statutes."
   ]
  },
  {
   "cell_type": "code",
   "execution_count": 10,
   "metadata": {},
   "outputs": [],
   "source": [
    "df.dropna(subset=['Statute', 'StatuteDescription'], how='any', inplace=True)"
   ]
  },
  {
   "cell_type": "markdown",
   "metadata": {},
   "source": [
    "To deal with the cyclical features Month and Time, we take the sine and cosine with period 12 and 24, respectively."
   ]
  },
  {
   "cell_type": "code",
   "execution_count": 11,
   "metadata": {},
   "outputs": [],
   "source": [
    "df['Month_Cos'] = np.cos((df['Month'] - 1) * (2*np.pi/12))\n",
    "df['Month_Sin'] = np.sin((df['Month'] - 1) * (2*np.pi/12))\n",
    "df['Time_Cos'] = np.cos(df['Time']* (2*np.pi/24))\n",
    "df['Time_Sin'] = np.sin(df['Time']* (2*np.pi/24))\n",
    "df.drop(['Month', 'Time'], axis=1, inplace=True)"
   ]
  },
  {
   "cell_type": "markdown",
   "metadata": {},
   "source": [
    "Let us keep only those rows where the coordinates are inside of a box defined by in_long and in_lat. Outside refers to locations that are not in Charlottesville."
   ]
  },
  {
   "cell_type": "code",
   "execution_count": 13,
   "metadata": {},
   "outputs": [
    {
     "data": {
      "text/plain": [
       "16188"
      ]
     },
     "execution_count": 13,
     "metadata": {},
     "output_type": "execute_result"
    }
   ],
   "source": [
    "in_long = (-78.55 < df['X']) & (df['X'] < -78.42)\n",
    "in_lat  = (+37.98 < df['Y']) & (df['Y'] < +38.10)\n",
    "df = df[in_long & in_lat]\n",
    "len(df)"
   ]
  },
  {
   "cell_type": "code",
   "execution_count": 14,
   "metadata": {},
   "outputs": [
    {
     "data": {
      "image/png": "[encoded data removed]",
      "text/plain": [
       "<Figure size 720x720 with 1 Axes>"
      ]
     },
     "metadata": {
      "needs_background": "dark"
     },
     "output_type": "display_data"
    }
   ],
   "source": [
    "df.plot(kind=\"scatter\", x='X', y='Y', alpha=0.1, figsize=(10, 10));"
   ]
  },
  {
   "cell_type": "markdown",
   "metadata": {},
   "source": [
    "We observe that, in addition to the statutes labeled by section and subsection numbers, there are also entries with a simple three-digit number, which will have to be sorted into the appropriate category according to the statute description. There are also others which seem to be labeled by section and subsection numbers but they are separated by a dash instead of a period. We note that these types of labels do not contain any clause numbers. Preprocessing is also complicated by redundant clauses which are not immediately obvious. An example is 16.1-253.2, which is actually covered under 18.2-60.4 and is therefore a crime against the person. Special notes are listed below.\n",
    "\n",
    "Court violations encompass \"meta\"-crimes, which include: Violations of bail and probation. Failure to appear in court. Failure to pay restitution. Failure to comply with support obligations. False identification to law enforcement. Contempt of court. Community-based program violation.\n",
    "\n",
    "1. '19.2-135' - DROP, not a crime\n",
    "2. '966' - DROP, because it is not clear what crime \"warrant service\" refers to.\n",
    "3. '46.2-894,F2' - counted as a property crime because it reefrs to property damage >$1000.\n",
    "4. '19.2-149' - DROP, not clear\n",
    "5. '90Z' - DROP, refers to all other offenses\n",
    "\n",
    "For reasons of sanity, we will only keep statutes with 15 or more entries."
   ]
  },
  {
   "cell_type": "code",
   "execution_count": null,
   "metadata": {},
   "outputs": [],
   "source": [
    "df['Statute'].value_counts()"
   ]
  },
  {
   "cell_type": "code",
   "execution_count": 15,
   "metadata": {},
   "outputs": [],
   "source": [
    "Crimes_MoralsDecency = ['18.2-388', '18.2-371.1(A)', '18.2-371(i)', '18.2-374.1(B)(4)', '18.2-387']\n",
    "Crimes_AdminJustice = ['18.2-456', '18.2-460(A)', '18.2-479.1', '18.2-460(B)', '18.2-472.1']\n",
    "Court_Violation = ['19.2-306', '19.2-123', '53.1-149', '19.2-128(C)', '19.2-305.2', '19.2-128(B)',\n",
    "                   '16.1-278.16', '19.2-82.1', '19.2-358', '16.1-69.24', '16.1-292(A)', '19.2-303.3']\n",
    "Crimes_Person = ['18.2-57(A)', '18.2-57.2(A)', '16.1-253.2', '18.2-51', '18.2-60.4', '18.2-51.6',\n",
    "                 '18.2-57(C)', '18.2-57.2(B)', '18.2-58', '18.2-47,F', '18.2-53.1', '13B', \n",
    "                 '18.2-60.3,M', '18.2-42', '18.2-47(A)', '18.2-67.4(A)(i)', '18.2-60(A)(2)',\n",
    "                 '18.2-51.2(A)']\n",
    "Crimes_HealthSafety = ['18.2-248(C)', '18.2-266', '18.2-250.1', '18.2-250(A)(a)', '18.2-268.3', \n",
    "                       '18.2-308.2(A)', '18.2-282(A)', '18.2-308', '18.2-271.1', '18.2-248.1(a)(2)',\n",
    "                       '18.2-272(A)', '18.2-308.4(A)', '17-13', '18.2-323.1', '54.1-3466']\n",
    "Crimes_Fraud = ['18.2-181', '18.2-178', '18.2-172', '18.2-195(1)', '18.2-192(1)(a)', '14-3',\n",
    "                '18.2-193', '18.2-204.2(B)', '30-281', '18.2-170']\n",
    "Crimes_Property = ['18.2-119', '18.2-137(B)(i)', '18.2-103', '18.2-91', '18.2-95,A', '18.2-96,A',\n",
    "                   '18.2-104', '18.2-111', '18.2-164(A)', '18.2-118', '18.2-137(A)', '18.2-137(B)(ii)',\n",
    "                   '18.2-121', '18.2-102', '18.2-96,C', '18.2-95,C', '18.2-96,H', '18.2-159',\n",
    "                   '18.2-108(A)', '18.2-95,I', '18.2-89', '18.2-115', '18.2-95,H', '18.2-83',\n",
    "                   '18.2-98', '910', '46.2-894,F2', '18.2-96,D']\n",
    "Crimes_PeaceOrder = ['18.2-427', '18.2-415', '18.2-429', '28-31', '16-8']\n",
    "Crimes_Inchoate = ['18.2-26']\n",
    "MotorVehicles = ['46.2-301', '46.2-896', '46.2-894,F', '46.2-852', '46.2-817(B)', '46.2-300',\n",
    "                 '46.2-894,M', '46.2-817(A)']\n",
    "AlcoholControl = ['4.1-305(A)', '905', '17-37', '904', '4.1-308']\n",
    "Education = ['22.1-254']\n",
    "Littering = ['26-1']\n",
    "\n",
    "categories = [Crimes_MoralsDecency, Crimes_AdminJustice, Court_Violation, Crimes_Person,\n",
    "              Crimes_HealthSafety, Crimes_Fraud, Crimes_Property, Crimes_PeaceOrder,\n",
    "              Crimes_Inchoate, MotorVehicles, AlcoholControl, Education, Littering]\n",
    "catstr = ['Crimes_MoralsDecency', 'Crimes_AdminJustice', 'Court_Violation', 'Crimes_Person',\n",
    "              'Crimes_HealthSafety', 'Crimes_Fraud', 'Crimes_Property', 'Crimes_PeaceOrder',\n",
    "              'Crimes_Inchoate', 'MotorVehicles', 'AlcoholControl', 'Education', 'Littering']\n"
   ]
  },
  {
   "cell_type": "markdown",
   "metadata": {},
   "source": [
    "An example of this is given below. Drunkenness is certainly something that would be covered under the existing statutes. In fact, this would go under Title 4.1."
   ]
  },
  {
   "cell_type": "code",
   "execution_count": 17,
   "metadata": {},
   "outputs": [
    {
     "data": {
      "text/html": [
       "<div>\n",
       "<style scoped>\n",
       "    .dataframe tbody tr th:only-of-type {\n",
       "        vertical-align: middle;\n",
       "    }\n",
       "\n",
       "    .dataframe tbody tr th {\n",
       "        vertical-align: top;\n",
       "    }\n",
       "\n",
       "    .dataframe thead th {\n",
       "        text-align: right;\n",
       "    }\n",
       "</style>\n",
       "<table border=\"1\" class=\"dataframe\">\n",
       "  <thead>\n",
       "    <tr style=\"text-align: right;\">\n",
       "      <th></th>\n",
       "      <th>Statute</th>\n",
       "      <th>StatuteDescription</th>\n",
       "      <th>X</th>\n",
       "      <th>Y</th>\n",
       "      <th>Year</th>\n",
       "      <th>American Indian/Alaskan Native</th>\n",
       "      <th>Asian or Pacific Islander</th>\n",
       "      <th>Black</th>\n",
       "      <th>Unknown Race</th>\n",
       "      <th>White</th>\n",
       "      <th>Female</th>\n",
       "      <th>Male</th>\n",
       "      <th>Unknown Sex</th>\n",
       "      <th>Month_Cos</th>\n",
       "      <th>Month_Sin</th>\n",
       "      <th>Time_Cos</th>\n",
       "      <th>Time_Sin</th>\n",
       "    </tr>\n",
       "  </thead>\n",
       "  <tbody>\n",
       "    <tr>\n",
       "      <th>85</th>\n",
       "      <td>905</td>\n",
       "      <td>DRUNKENESS</td>\n",
       "      <td>-78.494013</td>\n",
       "      <td>38.006163</td>\n",
       "      <td>2019.0</td>\n",
       "      <td>0.0</td>\n",
       "      <td>0.0</td>\n",
       "      <td>1.0</td>\n",
       "      <td>0.0</td>\n",
       "      <td>0.0</td>\n",
       "      <td>1.0</td>\n",
       "      <td>0.0</td>\n",
       "      <td>0.0</td>\n",
       "      <td>-8.660254e-01</td>\n",
       "      <td>0.500000</td>\n",
       "      <td>-0.039260</td>\n",
       "      <td>0.999229</td>\n",
       "    </tr>\n",
       "    <tr>\n",
       "      <th>181</th>\n",
       "      <td>905</td>\n",
       "      <td>DRUNKENESS</td>\n",
       "      <td>-78.480379</td>\n",
       "      <td>38.022674</td>\n",
       "      <td>2019.0</td>\n",
       "      <td>0.0</td>\n",
       "      <td>0.0</td>\n",
       "      <td>0.0</td>\n",
       "      <td>0.0</td>\n",
       "      <td>1.0</td>\n",
       "      <td>0.0</td>\n",
       "      <td>1.0</td>\n",
       "      <td>0.0</td>\n",
       "      <td>-5.000000e-01</td>\n",
       "      <td>0.866025</td>\n",
       "      <td>0.469472</td>\n",
       "      <td>-0.882948</td>\n",
       "    </tr>\n",
       "    <tr>\n",
       "      <th>233</th>\n",
       "      <td>905</td>\n",
       "      <td>DRUNKENESS</td>\n",
       "      <td>-78.480518</td>\n",
       "      <td>38.030049</td>\n",
       "      <td>2019.0</td>\n",
       "      <td>0.0</td>\n",
       "      <td>0.0</td>\n",
       "      <td>1.0</td>\n",
       "      <td>0.0</td>\n",
       "      <td>0.0</td>\n",
       "      <td>0.0</td>\n",
       "      <td>1.0</td>\n",
       "      <td>0.0</td>\n",
       "      <td>-5.000000e-01</td>\n",
       "      <td>0.866025</td>\n",
       "      <td>0.971342</td>\n",
       "      <td>0.237686</td>\n",
       "    </tr>\n",
       "    <tr>\n",
       "      <th>235</th>\n",
       "      <td>905</td>\n",
       "      <td>DRUNKENESS</td>\n",
       "      <td>-78.480973</td>\n",
       "      <td>38.030126</td>\n",
       "      <td>2019.0</td>\n",
       "      <td>0.0</td>\n",
       "      <td>0.0</td>\n",
       "      <td>1.0</td>\n",
       "      <td>0.0</td>\n",
       "      <td>0.0</td>\n",
       "      <td>0.0</td>\n",
       "      <td>1.0</td>\n",
       "      <td>0.0</td>\n",
       "      <td>-5.000000e-01</td>\n",
       "      <td>0.866025</td>\n",
       "      <td>0.866025</td>\n",
       "      <td>-0.500000</td>\n",
       "    </tr>\n",
       "    <tr>\n",
       "      <th>368</th>\n",
       "      <td>905</td>\n",
       "      <td>DRUNKENESS</td>\n",
       "      <td>-78.485517</td>\n",
       "      <td>38.035692</td>\n",
       "      <td>2019.0</td>\n",
       "      <td>0.0</td>\n",
       "      <td>0.0</td>\n",
       "      <td>1.0</td>\n",
       "      <td>0.0</td>\n",
       "      <td>0.0</td>\n",
       "      <td>0.0</td>\n",
       "      <td>1.0</td>\n",
       "      <td>0.0</td>\n",
       "      <td>6.123234e-17</td>\n",
       "      <td>1.000000</td>\n",
       "      <td>0.526214</td>\n",
       "      <td>0.850352</td>\n",
       "    </tr>\n",
       "  </tbody>\n",
       "</table>\n",
       "</div>"
      ],
      "text/plain": [
       "    Statute StatuteDescription          X          Y    Year  \\\n",
       "85      905         DRUNKENESS -78.494013  38.006163  2019.0   \n",
       "181     905         DRUNKENESS -78.480379  38.022674  2019.0   \n",
       "233     905         DRUNKENESS -78.480518  38.030049  2019.0   \n",
       "235     905         DRUNKENESS -78.480973  38.030126  2019.0   \n",
       "368     905         DRUNKENESS -78.485517  38.035692  2019.0   \n",
       "\n",
       "     American Indian/Alaskan Native  Asian or Pacific Islander  Black  \\\n",
       "85                              0.0                        0.0    1.0   \n",
       "181                             0.0                        0.0    0.0   \n",
       "233                             0.0                        0.0    1.0   \n",
       "235                             0.0                        0.0    1.0   \n",
       "368                             0.0                        0.0    1.0   \n",
       "\n",
       "     Unknown Race  White  Female  Male  Unknown Sex     Month_Cos  Month_Sin  \\\n",
       "85            0.0    0.0     1.0   0.0          0.0 -8.660254e-01   0.500000   \n",
       "181           0.0    1.0     0.0   1.0          0.0 -5.000000e-01   0.866025   \n",
       "233           0.0    0.0     0.0   1.0          0.0 -5.000000e-01   0.866025   \n",
       "235           0.0    0.0     0.0   1.0          0.0 -5.000000e-01   0.866025   \n",
       "368           0.0    0.0     0.0   1.0          0.0  6.123234e-17   1.000000   \n",
       "\n",
       "     Time_Cos  Time_Sin  \n",
       "85  -0.039260  0.999229  \n",
       "181  0.469472 -0.882948  \n",
       "233  0.971342  0.237686  \n",
       "235  0.866025 -0.500000  \n",
       "368  0.526214  0.850352  "
      ]
     },
     "execution_count": 17,
     "metadata": {},
     "output_type": "execute_result"
    }
   ],
   "source": [
    "df[df['Statute'] == '905'].head()"
   ]
  },
  {
   "cell_type": "markdown",
   "metadata": {},
   "source": [
    "We will use the Code of Virginia to reduce the number of unique values of the statute feature into something manageable. For example, Title 18.2 contains 13 chapters while Title 19.2 contains over 25. Given the value frequencies, we expect most entries to be categories into one of the chapters in Title 18 or 19."
   ]
  },
  {
   "cell_type": "markdown",
   "metadata": {},
   "source": [
    "We shall keep only the most frequent statutes (check if there are 15 or more entries) and then one-hot encode them. Note that we are still keeping about 93% of the previously truncated dataset."
   ]
  },
  {
   "cell_type": "code",
   "execution_count": 16,
   "metadata": {},
   "outputs": [
    {
     "data": {
      "text/plain": [
       "15012"
      ]
     },
     "execution_count": 16,
     "metadata": {},
     "output_type": "execute_result"
    }
   ],
   "source": [
    "pd.options.mode.chained_assignment = None\n",
    "df = df.groupby('Statute').filter(lambda x: (x['Statute'].count() >= 15).any())\n",
    "df.reset_index(drop=True, inplace=True)\n",
    "len(df)"
   ]
  },
  {
   "cell_type": "code",
   "execution_count": 17,
   "metadata": {},
   "outputs": [],
   "source": [
    "for i in range(len(categories)):\n",
    "    category = categories[i]\n",
    "    category_string = catstr[i]\n",
    "    df[category_string] = df['Statute'].apply(lambda x: 1 if x in category else 0)\n",
    "    \n",
    "df.drop(['Statute', 'StatuteDescription'], axis=1, inplace=True)\n",
    "    "
   ]
  },
  {
   "cell_type": "code",
   "execution_count": 18,
   "metadata": {},
   "outputs": [
    {
     "name": "stdout",
     "output_type": "stream",
     "text": [
      "There are 28 columns in total.\n",
      "There are 0 columns that have missing values.\n"
     ]
    },
    {
     "data": {
      "text/html": [
       "<div>\n",
       "<style scoped>\n",
       "    .dataframe tbody tr th:only-of-type {\n",
       "        vertical-align: middle;\n",
       "    }\n",
       "\n",
       "    .dataframe tbody tr th {\n",
       "        vertical-align: top;\n",
       "    }\n",
       "\n",
       "    .dataframe thead th {\n",
       "        text-align: right;\n",
       "    }\n",
       "</style>\n",
       "<table border=\"1\" class=\"dataframe\">\n",
       "  <thead>\n",
       "    <tr style=\"text-align: right;\">\n",
       "      <th></th>\n",
       "      <th>Missing Values</th>\n",
       "      <th>% of Total Values</th>\n",
       "    </tr>\n",
       "  </thead>\n",
       "  <tbody>\n",
       "  </tbody>\n",
       "</table>\n",
       "</div>"
      ],
      "text/plain": [
       "Empty DataFrame\n",
       "Columns: [Missing Values, % of Total Values]\n",
       "Index: []"
      ]
     },
     "execution_count": 18,
     "metadata": {},
     "output_type": "execute_result"
    }
   ],
   "source": [
    "null_values(df)"
   ]
  },
  {
   "cell_type": "code",
   "execution_count": 19,
   "metadata": {},
   "outputs": [
    {
     "data": {
      "text/html": [
       "<div>\n",
       "<style scoped>\n",
       "    .dataframe tbody tr th:only-of-type {\n",
       "        vertical-align: middle;\n",
       "    }\n",
       "\n",
       "    .dataframe tbody tr th {\n",
       "        vertical-align: top;\n",
       "    }\n",
       "\n",
       "    .dataframe thead th {\n",
       "        text-align: right;\n",
       "    }\n",
       "</style>\n",
       "<table border=\"1\" class=\"dataframe\">\n",
       "  <thead>\n",
       "    <tr style=\"text-align: right;\">\n",
       "      <th></th>\n",
       "      <th>X</th>\n",
       "      <th>Y</th>\n",
       "      <th>Year</th>\n",
       "      <th>American Indian/Alaskan Native</th>\n",
       "      <th>Asian or Pacific Islander</th>\n",
       "      <th>Black</th>\n",
       "      <th>Unknown Race</th>\n",
       "      <th>White</th>\n",
       "      <th>Female</th>\n",
       "      <th>Male</th>\n",
       "      <th>...</th>\n",
       "      <th>Crimes_Person</th>\n",
       "      <th>Crimes_HealthSafety</th>\n",
       "      <th>Crimes_Fraud</th>\n",
       "      <th>Crimes_Property</th>\n",
       "      <th>Crimes_PeaceOrder</th>\n",
       "      <th>Crimes_Inchoate</th>\n",
       "      <th>MotorVehicles</th>\n",
       "      <th>AlcoholControl</th>\n",
       "      <th>Education</th>\n",
       "      <th>Littering</th>\n",
       "    </tr>\n",
       "  </thead>\n",
       "  <tbody>\n",
       "    <tr>\n",
       "      <th>0</th>\n",
       "      <td>-78.500668</td>\n",
       "      <td>38.035105</td>\n",
       "      <td>2019.0</td>\n",
       "      <td>0.0</td>\n",
       "      <td>0.0</td>\n",
       "      <td>1.0</td>\n",
       "      <td>0.0</td>\n",
       "      <td>0.0</td>\n",
       "      <td>1.0</td>\n",
       "      <td>0.0</td>\n",
       "      <td>...</td>\n",
       "      <td>0</td>\n",
       "      <td>0</td>\n",
       "      <td>0</td>\n",
       "      <td>0</td>\n",
       "      <td>1</td>\n",
       "      <td>0</td>\n",
       "      <td>0</td>\n",
       "      <td>0</td>\n",
       "      <td>0</td>\n",
       "      <td>0</td>\n",
       "    </tr>\n",
       "    <tr>\n",
       "      <th>1</th>\n",
       "      <td>-78.504152</td>\n",
       "      <td>38.039890</td>\n",
       "      <td>2019.0</td>\n",
       "      <td>0.0</td>\n",
       "      <td>0.0</td>\n",
       "      <td>0.0</td>\n",
       "      <td>0.0</td>\n",
       "      <td>1.0</td>\n",
       "      <td>0.0</td>\n",
       "      <td>1.0</td>\n",
       "      <td>...</td>\n",
       "      <td>0</td>\n",
       "      <td>0</td>\n",
       "      <td>0</td>\n",
       "      <td>0</td>\n",
       "      <td>0</td>\n",
       "      <td>0</td>\n",
       "      <td>0</td>\n",
       "      <td>0</td>\n",
       "      <td>0</td>\n",
       "      <td>0</td>\n",
       "    </tr>\n",
       "    <tr>\n",
       "      <th>2</th>\n",
       "      <td>-78.476634</td>\n",
       "      <td>38.031669</td>\n",
       "      <td>2019.0</td>\n",
       "      <td>0.0</td>\n",
       "      <td>0.0</td>\n",
       "      <td>0.0</td>\n",
       "      <td>0.0</td>\n",
       "      <td>1.0</td>\n",
       "      <td>1.0</td>\n",
       "      <td>0.0</td>\n",
       "      <td>...</td>\n",
       "      <td>0</td>\n",
       "      <td>0</td>\n",
       "      <td>0</td>\n",
       "      <td>1</td>\n",
       "      <td>0</td>\n",
       "      <td>0</td>\n",
       "      <td>0</td>\n",
       "      <td>0</td>\n",
       "      <td>0</td>\n",
       "      <td>0</td>\n",
       "    </tr>\n",
       "    <tr>\n",
       "      <th>3</th>\n",
       "      <td>-78.477332</td>\n",
       "      <td>38.030289</td>\n",
       "      <td>2019.0</td>\n",
       "      <td>0.0</td>\n",
       "      <td>0.0</td>\n",
       "      <td>1.0</td>\n",
       "      <td>0.0</td>\n",
       "      <td>0.0</td>\n",
       "      <td>0.0</td>\n",
       "      <td>1.0</td>\n",
       "      <td>...</td>\n",
       "      <td>0</td>\n",
       "      <td>0</td>\n",
       "      <td>0</td>\n",
       "      <td>0</td>\n",
       "      <td>0</td>\n",
       "      <td>0</td>\n",
       "      <td>0</td>\n",
       "      <td>0</td>\n",
       "      <td>0</td>\n",
       "      <td>0</td>\n",
       "    </tr>\n",
       "    <tr>\n",
       "      <th>4</th>\n",
       "      <td>-78.477332</td>\n",
       "      <td>38.030289</td>\n",
       "      <td>2019.0</td>\n",
       "      <td>0.0</td>\n",
       "      <td>0.0</td>\n",
       "      <td>0.0</td>\n",
       "      <td>0.0</td>\n",
       "      <td>1.0</td>\n",
       "      <td>0.0</td>\n",
       "      <td>1.0</td>\n",
       "      <td>...</td>\n",
       "      <td>0</td>\n",
       "      <td>0</td>\n",
       "      <td>0</td>\n",
       "      <td>1</td>\n",
       "      <td>0</td>\n",
       "      <td>0</td>\n",
       "      <td>0</td>\n",
       "      <td>0</td>\n",
       "      <td>0</td>\n",
       "      <td>0</td>\n",
       "    </tr>\n",
       "  </tbody>\n",
       "</table>\n",
       "<p>5 rows × 28 columns</p>\n",
       "</div>"
      ],
      "text/plain": [
       "           X          Y    Year  American Indian/Alaskan Native  \\\n",
       "0 -78.500668  38.035105  2019.0                             0.0   \n",
       "1 -78.504152  38.039890  2019.0                             0.0   \n",
       "2 -78.476634  38.031669  2019.0                             0.0   \n",
       "3 -78.477332  38.030289  2019.0                             0.0   \n",
       "4 -78.477332  38.030289  2019.0                             0.0   \n",
       "\n",
       "   Asian or Pacific Islander  Black  Unknown Race  White  Female  Male  ...  \\\n",
       "0                        0.0    1.0           0.0    0.0     1.0   0.0  ...   \n",
       "1                        0.0    0.0           0.0    1.0     0.0   1.0  ...   \n",
       "2                        0.0    0.0           0.0    1.0     1.0   0.0  ...   \n",
       "3                        0.0    1.0           0.0    0.0     0.0   1.0  ...   \n",
       "4                        0.0    0.0           0.0    1.0     0.0   1.0  ...   \n",
       "\n",
       "   Crimes_Person  Crimes_HealthSafety  Crimes_Fraud  Crimes_Property  \\\n",
       "0              0                    0             0                0   \n",
       "1              0                    0             0                0   \n",
       "2              0                    0             0                1   \n",
       "3              0                    0             0                0   \n",
       "4              0                    0             0                1   \n",
       "\n",
       "   Crimes_PeaceOrder  Crimes_Inchoate  MotorVehicles  AlcoholControl  \\\n",
       "0                  1                0              0               0   \n",
       "1                  0                0              0               0   \n",
       "2                  0                0              0               0   \n",
       "3                  0                0              0               0   \n",
       "4                  0                0              0               0   \n",
       "\n",
       "   Education  Littering  \n",
       "0          0          0  \n",
       "1          0          0  \n",
       "2          0          0  \n",
       "3          0          0  \n",
       "4          0          0  \n",
       "\n",
       "[5 rows x 28 columns]"
      ]
     },
     "execution_count": 19,
     "metadata": {},
     "output_type": "execute_result"
    }
   ],
   "source": [
    "df.head()"
   ]
  },
  {
   "cell_type": "code",
   "execution_count": 19,
   "metadata": {},
   "outputs": [],
   "source": [
    "pipeline = Pipeline([\n",
    "    ('scaler', StandardScaler())\n",
    "])"
   ]
  },
  {
   "cell_type": "code",
   "execution_count": 20,
   "metadata": {},
   "outputs": [],
   "source": [
    "df_scaled = pipeline.fit_transform(df)"
   ]
  },
  {
   "cell_type": "code",
   "execution_count": 21,
   "metadata": {},
   "outputs": [],
   "source": [
    "from sklearn.cluster import KMeans"
   ]
  },
  {
   "cell_type": "code",
   "execution_count": null,
   "metadata": {},
   "outputs": [],
   "source": [
    "kmeans_per_k = [KMeans(n_clusters=k, n_init=100, random_state=42).fit(df_scaled) \n",
    "                for k in range(1, 50)]\n",
    "inertias = [model.inertia_ for model in kmeans_per_k]\n",
    "plt.plot(range(1, 50), inertias)\n",
    "plt.title(\"Optimizing cluster number\")\n",
    "plt.xlabel(\"Number of clusters\")\n",
    "plt.ylabel(\"Inertia\");"
   ]
  },
  {
   "cell_type": "code",
   "execution_count": 23,
   "metadata": {},
   "outputs": [],
   "source": [
    "from sklearn.metrics import silhouette_score"
   ]
  },
  {
   "cell_type": "code",
   "execution_count": null,
   "metadata": {},
   "outputs": [],
   "source": [
    "silhouette_scores = [silhouette_score(df_scaled, model.labels_) for model in kmeans_per_k[1:]]\n",
    "plt.plot(range(2, 50), silhouette_scores)\n",
    "plt.xlabel(\"$k$\")\n",
    "plt.ylabel(\"Silhouette score\");"
   ]
  },
  {
   "cell_type": "markdown",
   "metadata": {},
   "source": [
    "The KMeans and silhouette score seem to give 17 clusters as the optimal number."
   ]
  },
  {
   "cell_type": "code",
   "execution_count": 32,
   "metadata": {},
   "outputs": [
    {
     "data": {
      "text/plain": [
       "171701.9100933706"
      ]
     },
     "execution_count": 32,
     "metadata": {},
     "output_type": "execute_result"
    }
   ],
   "source": [
    "kmeans19 = KMeans(n_clusters=17, init='k-means++', n_init=100, random_state=6).fit(df_scaled)\n",
    "clusters = pd.DataFrame(pipeline.inverse_transform(kmeans19.cluster_centers_), columns=df.columns)\n",
    "kmeans19.inertia_"
   ]
  },
  {
   "cell_type": "code",
   "execution_count": 33,
   "metadata": {},
   "outputs": [
    {
     "data": {
      "image/png": "[encoded data removed]",
      "text/plain": [
       "<Figure size 720x720 with 1 Axes>"
      ]
     },
     "metadata": {
      "needs_background": "dark"
     },
     "output_type": "display_data"
    }
   ],
   "source": [
    "in_long = (-78.525 < df['X']) & (df['X'] < -78.450)\n",
    "in_lat  = (+38.000 < df['Y']) & (df['Y'] < +38.080)\n",
    "df2 = df[in_long & in_lat]\n",
    "ax = df2.plot(kind=\"scatter\", x='X', y='Y', alpha=0.1, figsize=(10, 10))\n",
    "clusters.plot(ax=ax, kind=\"scatter\", x='X', y='Y', c='red');"
   ]
  },
  {
   "cell_type": "code",
   "execution_count": 58,
   "metadata": {},
   "outputs": [
    {
     "data": {
      "image/png": "[encoded data removed]",
      "text/plain": [
       "<Figure size 720x720 with 1 Axes>"
      ]
     },
     "metadata": {
      "needs_background": "dark"
     },
     "output_type": "display_data"
    }
   ],
   "source": [
    "in_long = (-78.50 < df['X']) & (df['X'] < -78.48)\n",
    "in_lat  = (+38.02 < df['Y']) & (df['Y'] < +38.04)\n",
    "df3 = df[in_long & in_lat]\n",
    "ax = df3.plot(kind=\"scatter\", x='X', y='Y', alpha=0.1, figsize=(10, 10))\n",
    "clusters.plot(ax=ax, kind=\"scatter\", x='X', y='Y', c='red');"
   ]
  },
  {
   "cell_type": "code",
   "execution_count": null,
   "metadata": {},
   "outputs": [],
   "source": []
  }
 ],
 "metadata": {
  "kernelspec": {
   "display_name": "Python 3",
   "language": "python",
   "name": "python3"
  },
  "language_info": {
   "codemirror_mode": {
    "name": "ipython",
    "version": 3
   },
   "file_extension": ".py",
   "mimetype": "text/x-python",
   "name": "python",
   "nbconvert_exporter": "python",
   "pygments_lexer": "ipython3",
   "version": "3.6.8"
  }
 },
 "nbformat": 4,
 "nbformat_minor": 2
}
