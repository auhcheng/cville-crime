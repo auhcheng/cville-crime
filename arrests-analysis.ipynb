{
 "cells": [
  {
   "cell_type": "code",
   "execution_count": 2,
   "metadata": {},
   "outputs": [],
   "source": [
    "import pandas as pd\n",
    "import numpy as np\n",
    "import sklearn\n",
    "import matplotlib.pyplot as plt"
   ]
  },
  {
   "cell_type": "code",
   "execution_count": 3,
   "metadata": {},
   "outputs": [
    {
     "name": "stdout",
     "output_type": "stream",
     "text": [
      "<class 'pandas.core.frame.DataFrame'>\n",
      "RangeIndex: 17380 entries, 0 to 17379\n",
      "Data columns (total 12 columns):\n",
      "ArrestID              17380 non-null int64\n",
      "ArrestDatetime        17380 non-null object\n",
      "FirstName             17378 non-null object\n",
      "HouseNumber           15450 non-null float64\n",
      "LastName              17380 non-null object\n",
      "MiddleName            16236 non-null object\n",
      "NameSuffix            1610 non-null object\n",
      "Statute               17362 non-null object\n",
      "StatuteDescription    17362 non-null object\n",
      "Street                16497 non-null object\n",
      "Race                  17363 non-null object\n",
      "Sex                   17372 non-null object\n",
      "dtypes: float64(1), int64(1), object(10)\n",
      "memory usage: 1.6+ MB\n"
     ]
    }
   ],
   "source": [
    "arrests = pd.read_csv('Arrests.csv')\n",
    "arrests.info()"
   ]
  },
  {
   "cell_type": "code",
   "execution_count": 4,
   "metadata": {},
   "outputs": [
    {
     "data": {
      "text/html": [
       "<div>\n",
       "<style scoped>\n",
       "    .dataframe tbody tr th:only-of-type {\n",
       "        vertical-align: middle;\n",
       "    }\n",
       "\n",
       "    .dataframe tbody tr th {\n",
       "        vertical-align: top;\n",
       "    }\n",
       "\n",
       "    .dataframe thead th {\n",
       "        text-align: right;\n",
       "    }\n",
       "</style>\n",
       "<table border=\"1\" class=\"dataframe\">\n",
       "  <thead>\n",
       "    <tr style=\"text-align: right;\">\n",
       "      <th></th>\n",
       "      <th>ArrestID</th>\n",
       "      <th>ArrestDatetime</th>\n",
       "      <th>FirstName</th>\n",
       "      <th>HouseNumber</th>\n",
       "      <th>LastName</th>\n",
       "      <th>MiddleName</th>\n",
       "      <th>NameSuffix</th>\n",
       "      <th>Statute</th>\n",
       "      <th>StatuteDescription</th>\n",
       "      <th>Street</th>\n",
       "      <th>Race</th>\n",
       "      <th>Sex</th>\n",
       "    </tr>\n",
       "  </thead>\n",
       "  <tbody>\n",
       "    <tr>\n",
       "      <th>0</th>\n",
       "      <td>1001</td>\n",
       "      <td>2019-06-13T07:19:00.000Z</td>\n",
       "      <td>CHRISTOPHER</td>\n",
       "      <td>1505.0</td>\n",
       "      <td>STANLEY</td>\n",
       "      <td>DEAN</td>\n",
       "      <td>NaN</td>\n",
       "      <td>18.2-415</td>\n",
       "      <td>Disturbing the peace</td>\n",
       "      <td>UNIVERSITY AVE</td>\n",
       "      <td>Black</td>\n",
       "      <td>Female</td>\n",
       "    </tr>\n",
       "    <tr>\n",
       "      <th>1</th>\n",
       "      <td>1002</td>\n",
       "      <td>2019-06-13T06:59:00.000Z</td>\n",
       "      <td>GABRIEL</td>\n",
       "      <td>109.0</td>\n",
       "      <td>SANTOS</td>\n",
       "      <td>J</td>\n",
       "      <td>NaN</td>\n",
       "      <td>18.2-388</td>\n",
       "      <td>PROFANE SWEARING OR INTOXICATION IN PUBLIC</td>\n",
       "      <td>CULBRETH RD</td>\n",
       "      <td>White</td>\n",
       "      <td>Male</td>\n",
       "    </tr>\n",
       "    <tr>\n",
       "      <th>2</th>\n",
       "      <td>1003</td>\n",
       "      <td>2019-06-13T04:00:00.000Z</td>\n",
       "      <td>CAROLYN</td>\n",
       "      <td>350.0</td>\n",
       "      <td>RICE</td>\n",
       "      <td>PAIGE</td>\n",
       "      <td>NaN</td>\n",
       "      <td>18.2-111</td>\n",
       "      <td>Embezzlement</td>\n",
       "      <td>PARK ST</td>\n",
       "      <td>White</td>\n",
       "      <td>Female</td>\n",
       "    </tr>\n",
       "    <tr>\n",
       "      <th>3</th>\n",
       "      <td>1004</td>\n",
       "      <td>2019-06-13T00:02:00.000Z</td>\n",
       "      <td>MICHAEL</td>\n",
       "      <td>7051.0</td>\n",
       "      <td>COOPER</td>\n",
       "      <td>JEROME</td>\n",
       "      <td>NaN</td>\n",
       "      <td>19.2-306</td>\n",
       "      <td>PROBATION VIOLATION - TYPE NOT CLEAR FROM RECORD</td>\n",
       "      <td>LOUISA RD</td>\n",
       "      <td>Black</td>\n",
       "      <td>Male</td>\n",
       "    </tr>\n",
       "    <tr>\n",
       "      <th>4</th>\n",
       "      <td>1005</td>\n",
       "      <td>2019-06-12T18:15:00.000Z</td>\n",
       "      <td>Roy</td>\n",
       "      <td>606.0</td>\n",
       "      <td>Correll</td>\n",
       "      <td>Chapman</td>\n",
       "      <td>NaN</td>\n",
       "      <td>18.2-137(B)(i)</td>\n",
       "      <td>MONUMENT: INTENTIONAL DAMAGE, VALUE &lt;$1000</td>\n",
       "      <td>E MARKET ST</td>\n",
       "      <td>White</td>\n",
       "      <td>Male</td>\n",
       "    </tr>\n",
       "  </tbody>\n",
       "</table>\n",
       "</div>"
      ],
      "text/plain": [
       "   ArrestID            ArrestDatetime    FirstName  HouseNumber LastName  \\\n",
       "0      1001  2019-06-13T07:19:00.000Z  CHRISTOPHER       1505.0  STANLEY   \n",
       "1      1002  2019-06-13T06:59:00.000Z      GABRIEL        109.0   SANTOS   \n",
       "2      1003  2019-06-13T04:00:00.000Z      CAROLYN        350.0     RICE   \n",
       "3      1004  2019-06-13T00:02:00.000Z      MICHAEL       7051.0   COOPER   \n",
       "4      1005  2019-06-12T18:15:00.000Z          Roy        606.0  Correll   \n",
       "\n",
       "  MiddleName NameSuffix         Statute  \\\n",
       "0       DEAN        NaN        18.2-415   \n",
       "1          J        NaN        18.2-388   \n",
       "2      PAIGE        NaN        18.2-111   \n",
       "3     JEROME        NaN        19.2-306   \n",
       "4    Chapman        NaN  18.2-137(B)(i)   \n",
       "\n",
       "                                 StatuteDescription          Street   Race  \\\n",
       "0                              Disturbing the peace  UNIVERSITY AVE  Black   \n",
       "1        PROFANE SWEARING OR INTOXICATION IN PUBLIC     CULBRETH RD  White   \n",
       "2                                      Embezzlement         PARK ST  White   \n",
       "3  PROBATION VIOLATION - TYPE NOT CLEAR FROM RECORD       LOUISA RD  Black   \n",
       "4        MONUMENT: INTENTIONAL DAMAGE, VALUE <$1000     E MARKET ST  White   \n",
       "\n",
       "      Sex  \n",
       "0  Female  \n",
       "1    Male  \n",
       "2  Female  \n",
       "3    Male  \n",
       "4    Male  "
      ]
     },
     "execution_count": 4,
     "metadata": {},
     "output_type": "execute_result"
    }
   ],
   "source": [
    "arrests.head()"
   ]
  },
  {
   "cell_type": "code",
   "execution_count": 5,
   "metadata": {},
   "outputs": [
    {
     "data": {
      "text/plain": [
       "Index(['ArrestID', 'ArrestDatetime', 'FirstName', 'HouseNumber', 'LastName',\n",
       "       'MiddleName', 'NameSuffix', 'Statute', 'StatuteDescription', 'Street',\n",
       "       'Race', 'Sex'],\n",
       "      dtype='object')"
      ]
     },
     "execution_count": 5,
     "metadata": {},
     "output_type": "execute_result"
    }
   ],
   "source": [
    "arrests.columns"
   ]
  },
  {
   "cell_type": "code",
   "execution_count": 1,
   "metadata": {},
   "outputs": [],
   "source": [
    "def null_values(df, return_table=True):\n",
    "    mis_val = df.isnull().sum()\n",
    "    mis_val_percent = 100 * mis_val / len(df)\n",
    "    mis_val_table = pd.concat([mis_val, mis_val_percent], axis=1)\n",
    "    mis_val_table_ren_columns = mis_val_table.rename(\n",
    "    columns = {0 : 'Missing Values', 1 : '% of Total Values'})\n",
    "    mis_val_table_ren_columns = mis_val_table_ren_columns[\n",
    "        mis_val_table_ren_columns.iloc[:, 1] != 0].sort_values(\n",
    "        '% of Total Values', ascending=False).round(4)\n",
    "    print(\"There are\", len(df.columns), \"columns in total.\")\n",
    "    print(\"There are \" + str(mis_val_table_ren_columns.shape[0]) +\n",
    "              \" columns that have missing values.\")\n",
    "    if return_table:\n",
    "        return mis_val_table_ren_columns"
   ]
  },
  {
   "cell_type": "code",
   "execution_count": 5,
   "metadata": {},
   "outputs": [
    {
     "name": "stdout",
     "output_type": "stream",
     "text": [
      "There are 12 columns in total.\n",
      "There are 9 columns that have missing values.\n"
     ]
    },
    {
     "data": {
      "text/html": [
       "<div>\n",
       "<style scoped>\n",
       "    .dataframe tbody tr th:only-of-type {\n",
       "        vertical-align: middle;\n",
       "    }\n",
       "\n",
       "    .dataframe tbody tr th {\n",
       "        vertical-align: top;\n",
       "    }\n",
       "\n",
       "    .dataframe thead th {\n",
       "        text-align: right;\n",
       "    }\n",
       "</style>\n",
       "<table border=\"1\" class=\"dataframe\">\n",
       "  <thead>\n",
       "    <tr style=\"text-align: right;\">\n",
       "      <th></th>\n",
       "      <th>Missing Values</th>\n",
       "      <th>% of Total Values</th>\n",
       "    </tr>\n",
       "  </thead>\n",
       "  <tbody>\n",
       "    <tr>\n",
       "      <td>NameSuffix</td>\n",
       "      <td>15770</td>\n",
       "      <td>90.7365</td>\n",
       "    </tr>\n",
       "    <tr>\n",
       "      <td>HouseNumber</td>\n",
       "      <td>1930</td>\n",
       "      <td>11.1047</td>\n",
       "    </tr>\n",
       "    <tr>\n",
       "      <td>MiddleName</td>\n",
       "      <td>1144</td>\n",
       "      <td>6.5823</td>\n",
       "    </tr>\n",
       "    <tr>\n",
       "      <td>Street</td>\n",
       "      <td>883</td>\n",
       "      <td>5.0806</td>\n",
       "    </tr>\n",
       "    <tr>\n",
       "      <td>Statute</td>\n",
       "      <td>18</td>\n",
       "      <td>0.1036</td>\n",
       "    </tr>\n",
       "    <tr>\n",
       "      <td>StatuteDescription</td>\n",
       "      <td>18</td>\n",
       "      <td>0.1036</td>\n",
       "    </tr>\n",
       "    <tr>\n",
       "      <td>Race</td>\n",
       "      <td>17</td>\n",
       "      <td>0.0978</td>\n",
       "    </tr>\n",
       "    <tr>\n",
       "      <td>Sex</td>\n",
       "      <td>8</td>\n",
       "      <td>0.0460</td>\n",
       "    </tr>\n",
       "    <tr>\n",
       "      <td>FirstName</td>\n",
       "      <td>2</td>\n",
       "      <td>0.0115</td>\n",
       "    </tr>\n",
       "  </tbody>\n",
       "</table>\n",
       "</div>"
      ],
      "text/plain": [
       "                    Missing Values  % of Total Values\n",
       "NameSuffix                   15770            90.7365\n",
       "HouseNumber                   1930            11.1047\n",
       "MiddleName                    1144             6.5823\n",
       "Street                         883             5.0806\n",
       "Statute                         18             0.1036\n",
       "StatuteDescription              18             0.1036\n",
       "Race                            17             0.0978\n",
       "Sex                              8             0.0460\n",
       "FirstName                        2             0.0115"
      ]
     },
     "execution_count": 5,
     "metadata": {},
     "output_type": "execute_result"
    }
   ],
   "source": [
    "miss_values = null_values(arrests)\n",
    "pd.set_option('display.max_rows', None)\n",
    "miss_values"
   ]
  },
  {
   "cell_type": "markdown",
   "metadata": {},
   "source": [
    "To impute missing data in 'Sex', all nan values should be replaced with 'Unknown'."
   ]
  },
  {
   "cell_type": "code",
   "execution_count": 7,
   "metadata": {},
   "outputs": [
    {
     "data": {
      "text/plain": [
       "array(['Female', 'Male', nan, 'Unknown'], dtype=object)"
      ]
     },
     "execution_count": 7,
     "metadata": {},
     "output_type": "execute_result"
    }
   ],
   "source": [
    "arrests['Sex'].unique()"
   ]
  },
  {
   "cell_type": "markdown",
   "metadata": {},
   "source": [
    "What are 'nwt', 'doc', and 'jpg' doing in the 'Race' feature?"
   ]
  },
  {
   "cell_type": "code",
   "execution_count": null,
   "metadata": {},
   "outputs": [],
   "source": [
    "arrests.loc[arrests['Race'] == 'nwt']"
   ]
  },
  {
   "cell_type": "code",
   "execution_count": null,
   "metadata": {
    "scrolled": true
   },
   "outputs": [],
   "source": [
    "arrests.loc[arrests['Race'] == 'doc']"
   ]
  },
  {
   "cell_type": "markdown",
   "metadata": {},
   "source": [
    "We see that there are multiple descriptions that correspond to the same statute. Therefore, we drop the StatuteDescription feature because it does not add anything to the data.\n",
    "\n",
    "It is reasonable to perform feature engineering that assigns a unique number to a full name, including the suffix if applicable, since we see that one person can and often commits more than one offense."
   ]
  },
  {
   "cell_type": "code",
   "execution_count": null,
   "metadata": {},
   "outputs": [],
   "source": [
    "arrests['StatuteDescription'].value_counts()"
   ]
  },
  {
   "cell_type": "code",
   "execution_count": null,
   "metadata": {},
   "outputs": [],
   "source": [
    "arrests['Statute'].value_counts()"
   ]
  },
  {
   "cell_type": "code",
   "execution_count": null,
   "metadata": {},
   "outputs": [],
   "source": []
  }
 ],
 "metadata": {
  "kernelspec": {
   "display_name": "Python 3",
   "language": "python",
   "name": "python3"
  },
  "language_info": {
   "codemirror_mode": {
    "name": "ipython",
    "version": 3
   },
   "file_extension": ".py",
   "mimetype": "text/x-python",
   "name": "python",
   "nbconvert_exporter": "python",
   "pygments_lexer": "ipython3",
   "version": "3.6.8"
  }
 },
 "nbformat": 4,
 "nbformat_minor": 2
}
