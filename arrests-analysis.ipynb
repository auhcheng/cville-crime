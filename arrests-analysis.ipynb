{
 "cells": [
  {
   "cell_type": "code",
   "execution_count": 15,
   "metadata": {},
   "outputs": [],
   "source": [
    "import pandas as pd\n",
    "import numpy as np\n",
    "import sklearn as sk\n",
    "import matplotlib.pyplot as plt\n",
    "\n",
    "import geopy\n",
    "import geopandas"
   ]
  },
  {
   "cell_type": "code",
   "execution_count": 16,
   "metadata": {},
   "outputs": [],
   "source": [
    "arrests = pd.read_csv('Arrests.csv')\n",
    "arcgis_output = pd.read_csv('arrests-arcgis-output.csv', low_memory=False)"
   ]
  },
  {
   "cell_type": "code",
   "execution_count": 29,
   "metadata": {},
   "outputs": [],
   "source": [
    "latlong = arcgis_output[['X', 'Y']]\n",
    "df = pd.concat([arrests, latlong], axis=1)"
   ]
  },
  {
   "cell_type": "code",
   "execution_count": 31,
   "metadata": {},
   "outputs": [
    {
     "data": {
      "text/html": [
       "<div>\n",
       "<style scoped>\n",
       "    .dataframe tbody tr th:only-of-type {\n",
       "        vertical-align: middle;\n",
       "    }\n",
       "\n",
       "    .dataframe tbody tr th {\n",
       "        vertical-align: top;\n",
       "    }\n",
       "\n",
       "    .dataframe thead th {\n",
       "        text-align: right;\n",
       "    }\n",
       "</style>\n",
       "<table border=\"1\" class=\"dataframe\">\n",
       "  <thead>\n",
       "    <tr style=\"text-align: right;\">\n",
       "      <th></th>\n",
       "      <th>ArrestID</th>\n",
       "      <th>ArrestDatetime</th>\n",
       "      <th>FirstName</th>\n",
       "      <th>HouseNumber</th>\n",
       "      <th>LastName</th>\n",
       "      <th>MiddleName</th>\n",
       "      <th>NameSuffix</th>\n",
       "      <th>Statute</th>\n",
       "      <th>StatuteDescription</th>\n",
       "      <th>Street</th>\n",
       "      <th>Race</th>\n",
       "      <th>Sex</th>\n",
       "      <th>X</th>\n",
       "      <th>Y</th>\n",
       "    </tr>\n",
       "  </thead>\n",
       "  <tbody>\n",
       "    <tr>\n",
       "      <th>0</th>\n",
       "      <td>1001</td>\n",
       "      <td>2019-06-13T07:19:00.000Z</td>\n",
       "      <td>CHRISTOPHER</td>\n",
       "      <td>1505.0</td>\n",
       "      <td>STANLEY</td>\n",
       "      <td>DEAN</td>\n",
       "      <td>NaN</td>\n",
       "      <td>18.2-415</td>\n",
       "      <td>Disturbing the peace</td>\n",
       "      <td>UNIVERSITY AVE</td>\n",
       "      <td>Black</td>\n",
       "      <td>Female</td>\n",
       "      <td>-78.500668</td>\n",
       "      <td>38.035105</td>\n",
       "    </tr>\n",
       "    <tr>\n",
       "      <th>1</th>\n",
       "      <td>1002</td>\n",
       "      <td>2019-06-13T06:59:00.000Z</td>\n",
       "      <td>GABRIEL</td>\n",
       "      <td>109.0</td>\n",
       "      <td>SANTOS</td>\n",
       "      <td>J</td>\n",
       "      <td>NaN</td>\n",
       "      <td>18.2-388</td>\n",
       "      <td>PROFANE SWEARING OR INTOXICATION IN PUBLIC</td>\n",
       "      <td>CULBRETH RD</td>\n",
       "      <td>White</td>\n",
       "      <td>Male</td>\n",
       "      <td>-78.504152</td>\n",
       "      <td>38.039890</td>\n",
       "    </tr>\n",
       "    <tr>\n",
       "      <th>2</th>\n",
       "      <td>1003</td>\n",
       "      <td>2019-06-13T04:00:00.000Z</td>\n",
       "      <td>CAROLYN</td>\n",
       "      <td>350.0</td>\n",
       "      <td>RICE</td>\n",
       "      <td>PAIGE</td>\n",
       "      <td>NaN</td>\n",
       "      <td>18.2-111</td>\n",
       "      <td>Embezzlement</td>\n",
       "      <td>PARK ST</td>\n",
       "      <td>White</td>\n",
       "      <td>Female</td>\n",
       "      <td>-78.476634</td>\n",
       "      <td>38.031669</td>\n",
       "    </tr>\n",
       "    <tr>\n",
       "      <th>3</th>\n",
       "      <td>1004</td>\n",
       "      <td>2019-06-13T00:02:00.000Z</td>\n",
       "      <td>MICHAEL</td>\n",
       "      <td>7051.0</td>\n",
       "      <td>COOPER</td>\n",
       "      <td>JEROME</td>\n",
       "      <td>NaN</td>\n",
       "      <td>19.2-306</td>\n",
       "      <td>PROBATION VIOLATION - TYPE NOT CLEAR FROM RECORD</td>\n",
       "      <td>LOUISA RD</td>\n",
       "      <td>Black</td>\n",
       "      <td>Male</td>\n",
       "      <td>-78.477332</td>\n",
       "      <td>38.030289</td>\n",
       "    </tr>\n",
       "    <tr>\n",
       "      <th>4</th>\n",
       "      <td>1005</td>\n",
       "      <td>2019-06-12T18:15:00.000Z</td>\n",
       "      <td>Roy</td>\n",
       "      <td>606.0</td>\n",
       "      <td>Correll</td>\n",
       "      <td>Chapman</td>\n",
       "      <td>NaN</td>\n",
       "      <td>18.2-137(B)(i)</td>\n",
       "      <td>MONUMENT: INTENTIONAL DAMAGE, VALUE &lt;$1000</td>\n",
       "      <td>E MARKET ST</td>\n",
       "      <td>White</td>\n",
       "      <td>Male</td>\n",
       "      <td>-78.477332</td>\n",
       "      <td>38.030289</td>\n",
       "    </tr>\n",
       "  </tbody>\n",
       "</table>\n",
       "</div>"
      ],
      "text/plain": [
       "   ArrestID            ArrestDatetime    FirstName  HouseNumber LastName  \\\n",
       "0      1001  2019-06-13T07:19:00.000Z  CHRISTOPHER       1505.0  STANLEY   \n",
       "1      1002  2019-06-13T06:59:00.000Z      GABRIEL        109.0   SANTOS   \n",
       "2      1003  2019-06-13T04:00:00.000Z      CAROLYN        350.0     RICE   \n",
       "3      1004  2019-06-13T00:02:00.000Z      MICHAEL       7051.0   COOPER   \n",
       "4      1005  2019-06-12T18:15:00.000Z          Roy        606.0  Correll   \n",
       "\n",
       "  MiddleName NameSuffix         Statute  \\\n",
       "0       DEAN        NaN        18.2-415   \n",
       "1          J        NaN        18.2-388   \n",
       "2      PAIGE        NaN        18.2-111   \n",
       "3     JEROME        NaN        19.2-306   \n",
       "4    Chapman        NaN  18.2-137(B)(i)   \n",
       "\n",
       "                                 StatuteDescription          Street   Race  \\\n",
       "0                              Disturbing the peace  UNIVERSITY AVE  Black   \n",
       "1        PROFANE SWEARING OR INTOXICATION IN PUBLIC     CULBRETH RD  White   \n",
       "2                                      Embezzlement         PARK ST  White   \n",
       "3  PROBATION VIOLATION - TYPE NOT CLEAR FROM RECORD       LOUISA RD  Black   \n",
       "4        MONUMENT: INTENTIONAL DAMAGE, VALUE <$1000     E MARKET ST  White   \n",
       "\n",
       "      Sex          X          Y  \n",
       "0  Female -78.500668  38.035105  \n",
       "1    Male -78.504152  38.039890  \n",
       "2  Female -78.476634  38.031669  \n",
       "3    Male -78.477332  38.030289  \n",
       "4    Male -78.477332  38.030289  "
      ]
     },
     "execution_count": 31,
     "metadata": {},
     "output_type": "execute_result"
    }
   ],
   "source": [
    "df.head()"
   ]
  },
  {
   "cell_type": "code",
   "execution_count": 32,
   "metadata": {},
   "outputs": [
    {
     "name": "stdout",
     "output_type": "stream",
     "text": [
      "<class 'pandas.core.frame.DataFrame'>\n",
      "RangeIndex: 17380 entries, 0 to 17379\n",
      "Data columns (total 14 columns):\n",
      "ArrestID              17380 non-null int64\n",
      "ArrestDatetime        17380 non-null object\n",
      "FirstName             17378 non-null object\n",
      "HouseNumber           15450 non-null float64\n",
      "LastName              17380 non-null object\n",
      "MiddleName            16236 non-null object\n",
      "NameSuffix            1610 non-null object\n",
      "Statute               17362 non-null object\n",
      "StatuteDescription    17362 non-null object\n",
      "Street                16497 non-null object\n",
      "Race                  17363 non-null object\n",
      "Sex                   17372 non-null object\n",
      "X                     17380 non-null float64\n",
      "Y                     17380 non-null float64\n",
      "dtypes: float64(3), int64(1), object(10)\n",
      "memory usage: 1.9+ MB\n"
     ]
    }
   ],
   "source": [
    "df.info()"
   ]
  },
  {
   "cell_type": "markdown",
   "metadata": {},
   "source": [
    "To convert the date, we will split it into two columns. One will be a float64 in units of months (do we ignore the year?). The other will be a float64 in units of hours."
   ]
  },
  {
   "cell_type": "code",
   "execution_count": 11,
   "metadata": {},
   "outputs": [],
   "source": [
    "def null_values(df, return_table=True):\n",
    "    mis_val = df.isnull().sum()\n",
    "    mis_val_percent = 100 * mis_val / len(df)\n",
    "    mis_val_table = pd.concat([mis_val, mis_val_percent], axis=1)\n",
    "    mis_val_table_ren_columns = mis_val_table.rename(\n",
    "    columns = {0 : 'Missing Values', 1 : '% of Total Values'})\n",
    "    mis_val_table_ren_columns = mis_val_table_ren_columns[\n",
    "        mis_val_table_ren_columns.iloc[:, 1] != 0].sort_values(\n",
    "        '% of Total Values', ascending=False).round(4)\n",
    "    print(\"There are\", len(df.columns), \"columns in total.\")\n",
    "    print(\"There are \" + str(mis_val_table_ren_columns.shape[0]) +\n",
    "              \" columns that have missing values.\")\n",
    "    if return_table:\n",
    "        return mis_val_table_ren_columns"
   ]
  },
  {
   "cell_type": "markdown",
   "metadata": {},
   "source": [
    "The only nonmissing features are the ID, the date and time, and the last name."
   ]
  },
  {
   "cell_type": "code",
   "execution_count": 34,
   "metadata": {},
   "outputs": [
    {
     "name": "stdout",
     "output_type": "stream",
     "text": [
      "There are 12 columns in total.\n",
      "There are 9 columns that have missing values.\n"
     ]
    },
    {
     "data": {
      "text/html": [
       "<div>\n",
       "<style scoped>\n",
       "    .dataframe tbody tr th:only-of-type {\n",
       "        vertical-align: middle;\n",
       "    }\n",
       "\n",
       "    .dataframe tbody tr th {\n",
       "        vertical-align: top;\n",
       "    }\n",
       "\n",
       "    .dataframe thead th {\n",
       "        text-align: right;\n",
       "    }\n",
       "</style>\n",
       "<table border=\"1\" class=\"dataframe\">\n",
       "  <thead>\n",
       "    <tr style=\"text-align: right;\">\n",
       "      <th></th>\n",
       "      <th>Missing Values</th>\n",
       "      <th>% of Total Values</th>\n",
       "    </tr>\n",
       "  </thead>\n",
       "  <tbody>\n",
       "    <tr>\n",
       "      <th>NameSuffix</th>\n",
       "      <td>15770</td>\n",
       "      <td>90.7365</td>\n",
       "    </tr>\n",
       "    <tr>\n",
       "      <th>HouseNumber</th>\n",
       "      <td>1930</td>\n",
       "      <td>11.1047</td>\n",
       "    </tr>\n",
       "    <tr>\n",
       "      <th>MiddleName</th>\n",
       "      <td>1144</td>\n",
       "      <td>6.5823</td>\n",
       "    </tr>\n",
       "    <tr>\n",
       "      <th>Street</th>\n",
       "      <td>883</td>\n",
       "      <td>5.0806</td>\n",
       "    </tr>\n",
       "    <tr>\n",
       "      <th>Statute</th>\n",
       "      <td>18</td>\n",
       "      <td>0.1036</td>\n",
       "    </tr>\n",
       "    <tr>\n",
       "      <th>StatuteDescription</th>\n",
       "      <td>18</td>\n",
       "      <td>0.1036</td>\n",
       "    </tr>\n",
       "    <tr>\n",
       "      <th>Race</th>\n",
       "      <td>17</td>\n",
       "      <td>0.0978</td>\n",
       "    </tr>\n",
       "    <tr>\n",
       "      <th>Sex</th>\n",
       "      <td>8</td>\n",
       "      <td>0.0460</td>\n",
       "    </tr>\n",
       "    <tr>\n",
       "      <th>FirstName</th>\n",
       "      <td>2</td>\n",
       "      <td>0.0115</td>\n",
       "    </tr>\n",
       "  </tbody>\n",
       "</table>\n",
       "</div>"
      ],
      "text/plain": [
       "                    Missing Values  % of Total Values\n",
       "NameSuffix                   15770            90.7365\n",
       "HouseNumber                   1930            11.1047\n",
       "MiddleName                    1144             6.5823\n",
       "Street                         883             5.0806\n",
       "Statute                         18             0.1036\n",
       "StatuteDescription              18             0.1036\n",
       "Race                            17             0.0978\n",
       "Sex                              8             0.0460\n",
       "FirstName                        2             0.0115"
      ]
     },
     "execution_count": 34,
     "metadata": {},
     "output_type": "execute_result"
    }
   ],
   "source": [
    "miss_values = null_values(arrests)\n",
    "pd.set_option('display.max_rows', None)\n",
    "miss_values"
   ]
  },
  {
   "cell_type": "markdown",
   "metadata": {},
   "source": [
    "To impute missing data in 'Sex', all nan values should be replaced with 'Unknown'."
   ]
  },
  {
   "cell_type": "code",
   "execution_count": 7,
   "metadata": {},
   "outputs": [
    {
     "data": {
      "text/plain": [
       "array(['Female', 'Male', nan, 'Unknown'], dtype=object)"
      ]
     },
     "execution_count": 7,
     "metadata": {},
     "output_type": "execute_result"
    }
   ],
   "source": [
    "arrests['Sex'].unique()"
   ]
  },
  {
   "cell_type": "markdown",
   "metadata": {},
   "source": [
    "The two rows without first names are interesting. In the row with ID 2262, the last name is a placeholder 'JOHN DOE'."
   ]
  },
  {
   "cell_type": "code",
   "execution_count": 23,
   "metadata": {},
   "outputs": [
    {
     "data": {
      "text/html": [
       "<div>\n",
       "<style scoped>\n",
       "    .dataframe tbody tr th:only-of-type {\n",
       "        vertical-align: middle;\n",
       "    }\n",
       "\n",
       "    .dataframe tbody tr th {\n",
       "        vertical-align: top;\n",
       "    }\n",
       "\n",
       "    .dataframe thead th {\n",
       "        text-align: right;\n",
       "    }\n",
       "</style>\n",
       "<table border=\"1\" class=\"dataframe\">\n",
       "  <thead>\n",
       "    <tr style=\"text-align: right;\">\n",
       "      <th></th>\n",
       "      <th>ArrestID</th>\n",
       "      <th>ArrestDatetime</th>\n",
       "      <th>FirstName</th>\n",
       "      <th>HouseNumber</th>\n",
       "      <th>LastName</th>\n",
       "      <th>MiddleName</th>\n",
       "      <th>NameSuffix</th>\n",
       "      <th>Statute</th>\n",
       "      <th>StatuteDescription</th>\n",
       "      <th>Street</th>\n",
       "      <th>Race</th>\n",
       "      <th>Sex</th>\n",
       "    </tr>\n",
       "  </thead>\n",
       "  <tbody>\n",
       "    <tr>\n",
       "      <td>696</td>\n",
       "      <td>1697</td>\n",
       "      <td>2019-03-15T00:38:00.000Z</td>\n",
       "      <td>NaN</td>\n",
       "      <td>NaN</td>\n",
       "      <td>PURPLERAIN</td>\n",
       "      <td>NaN</td>\n",
       "      <td>NaN</td>\n",
       "      <td>905</td>\n",
       "      <td>DRUNKENESS</td>\n",
       "      <td>BROWN ST</td>\n",
       "      <td>Black</td>\n",
       "      <td>Female</td>\n",
       "    </tr>\n",
       "    <tr>\n",
       "      <td>5261</td>\n",
       "      <td>2262</td>\n",
       "      <td>2018-12-24T13:06:00.000Z</td>\n",
       "      <td>NaN</td>\n",
       "      <td>1131.0</td>\n",
       "      <td>JOHN DOE</td>\n",
       "      <td>NaN</td>\n",
       "      <td>NaN</td>\n",
       "      <td>18.2-388</td>\n",
       "      <td>PROFANE SWEARING OR INTOXICATION IN PUBLIC</td>\n",
       "      <td>5TH ST SW</td>\n",
       "      <td>White</td>\n",
       "      <td>Male</td>\n",
       "    </tr>\n",
       "  </tbody>\n",
       "</table>\n",
       "</div>"
      ],
      "text/plain": [
       "      ArrestID            ArrestDatetime FirstName  HouseNumber    LastName  \\\n",
       "696       1697  2019-03-15T00:38:00.000Z       NaN          NaN  PURPLERAIN   \n",
       "5261      2262  2018-12-24T13:06:00.000Z       NaN       1131.0    JOHN DOE   \n",
       "\n",
       "     MiddleName NameSuffix   Statute  \\\n",
       "696         NaN        NaN       905   \n",
       "5261        NaN        NaN  18.2-388   \n",
       "\n",
       "                              StatuteDescription     Street   Race     Sex  \n",
       "696                                   DRUNKENESS   BROWN ST  Black  Female  \n",
       "5261  PROFANE SWEARING OR INTOXICATION IN PUBLIC  5TH ST SW  White    Male  "
      ]
     },
     "execution_count": 23,
     "metadata": {},
     "output_type": "execute_result"
    }
   ],
   "source": [
    "arrests.loc[arrests['FirstName'] != arrests['FirstName']]"
   ]
  },
  {
   "cell_type": "markdown",
   "metadata": {},
   "source": [
    "What are 'nwt', 'doc', and 'jpg' doing in the 'Race' feature?"
   ]
  },
  {
   "cell_type": "code",
   "execution_count": null,
   "metadata": {},
   "outputs": [],
   "source": [
    "arrests.loc[arrests['Race'] == 'nwt']"
   ]
  },
  {
   "cell_type": "code",
   "execution_count": null,
   "metadata": {
    "scrolled": true
   },
   "outputs": [],
   "source": [
    "arrests.loc[arrests['Race'] == 'doc']"
   ]
  },
  {
   "cell_type": "markdown",
   "metadata": {},
   "source": [
    "We see that there are multiple descriptions that correspond to the same statute. Therefore, we drop the StatuteDescription feature because it does not add anything to the data.\n",
    "\n",
    "If we keep the names, it is reasonable to perform feature engineering that assigns a unique number to a full name, including the suffix if applicable, since we see that one person can and often commits more than one offense. We will have to convert every name to uppercase, since the capitalization is inconsistent.\n",
    "\n",
    "There are 472 unique statutes. A OneHotEncoder will result in the number of features increasing to about 480."
   ]
  },
  {
   "cell_type": "code",
   "execution_count": 24,
   "metadata": {},
   "outputs": [
    {
     "data": {
      "text/plain": [
       "array([nan, 'Jr', 'II', 'III', 'Sr', 'IV'], dtype=object)"
      ]
     },
     "execution_count": 24,
     "metadata": {},
     "output_type": "execute_result"
    }
   ],
   "source": [
    "arrests['NameSuffix'].unique()"
   ]
  },
  {
   "cell_type": "code",
   "execution_count": null,
   "metadata": {},
   "outputs": [],
   "source": []
  },
  {
   "cell_type": "code",
   "execution_count": null,
   "metadata": {},
   "outputs": [],
   "source": [
    "arrests['StatuteDescription'].value_counts()"
   ]
  },
  {
   "cell_type": "code",
   "execution_count": null,
   "metadata": {},
   "outputs": [],
   "source": [
    "arrests['Statute'].value_counts()"
   ]
  },
  {
   "cell_type": "code",
   "execution_count": 19,
   "metadata": {},
   "outputs": [
    {
     "data": {
      "text/plain": [
       "472"
      ]
     },
     "execution_count": 19,
     "metadata": {},
     "output_type": "execute_result"
    }
   ],
   "source": [
    "arrests['Statute'].nunique()"
   ]
  },
  {
   "cell_type": "markdown",
   "metadata": {},
   "source": [
    "## Data cleaning"
   ]
  },
  {
   "cell_type": "markdown",
   "metadata": {},
   "source": [
    "We drop the ArrestID and StatuteDescription because the former is useless and the latter is redundant with Statute. In fact, there are many descriptions that can potentially refer to the same statute. We also drop the names since there are too many unique names for an analysis to be useful with them kept."
   ]
  },
  {
   "cell_type": "code",
   "execution_count": 1,
   "metadata": {},
   "outputs": [],
   "source": [
    "import pandas as pd\n",
    "import numpy as np\n",
    "import sklearn as sk\n",
    "import matplotlib.pyplot as plt"
   ]
  },
  {
   "cell_type": "code",
   "execution_count": 2,
   "metadata": {},
   "outputs": [],
   "source": [
    "from sklearn.preprocessing import OneHotEncoder, StandardScaler\n",
    "from sklearn.pipeline import Pipeline"
   ]
  },
  {
   "cell_type": "code",
   "execution_count": 3,
   "metadata": {},
   "outputs": [],
   "source": [
    "arrests = pd.read_csv('Arrests.csv')\n",
    "arcgis_output = pd.read_csv('arrests-arcgis-output.csv', low_memory=False)"
   ]
  },
  {
   "cell_type": "code",
   "execution_count": 4,
   "metadata": {},
   "outputs": [],
   "source": [
    "latlong = arcgis_output[['X', 'Y']]\n",
    "df = pd.concat([arrests, latlong], axis=1)"
   ]
  },
  {
   "cell_type": "code",
   "execution_count": 5,
   "metadata": {},
   "outputs": [],
   "source": [
    "useless_and_redundant = ['ArrestID', 'StatuteDescription']\n",
    "names = ['FirstName', 'LastName', 'MiddleName', 'NameSuffix']\n",
    "df.drop(useless_and_redundant, axis=1, inplace=True)\n",
    "df.drop(names, axis=1, inplace=True)"
   ]
  },
  {
   "cell_type": "code",
   "execution_count": 6,
   "metadata": {},
   "outputs": [],
   "source": [
    "df['Year'] = pd.to_datetime(df['ArrestDatetime']).apply(\n",
    "    lambda x: float(x.strftime('%Y')) if x == x else np.nan)\n",
    "df['Month'] = pd.to_datetime(df['ArrestDatetime']).apply(\n",
    "    lambda x: float(x.strftime('%m')) if x == x else np.nan) \n",
    "df['Time'] = pd.to_datetime(df['ArrestDatetime']).apply(\n",
    "    lambda x: float(x.strftime('%H')) + 1/60 * float(x.strftime('%M')) + 1/3600 * float(x.strftime('%S'))\n",
    "    if x == x else np.nan)"
   ]
  },
  {
   "cell_type": "code",
   "execution_count": 7,
   "metadata": {},
   "outputs": [],
   "source": [
    "df.drop(['ArrestDatetime', 'HouseNumber', 'Street'], axis=1, inplace=True)"
   ]
  },
  {
   "cell_type": "markdown",
   "metadata": {},
   "source": [
    "We will use OneHotEncoding for race and sex."
   ]
  },
  {
   "cell_type": "code",
   "execution_count": 8,
   "metadata": {},
   "outputs": [],
   "source": [
    "onehot = OneHotEncoder()\n",
    "\n",
    "def convert_races(x):\n",
    "    if x == 'Unknown' or x == 'nwt' or x == 'doc' or x == 'jpg' or x != x:\n",
    "        return 'Unknown Race'\n",
    "    else:\n",
    "        return x\n",
    "\n",
    "def convert_sex(x):\n",
    "    if x == 'Unknown' or x != x:\n",
    "        return 'Unknown Sex'\n",
    "    else:\n",
    "        return x\n",
    "    \n",
    "df['Race'] = df['Race'].apply(convert_races)    \n",
    "df['Sex'] = df['Sex'].apply(convert_sex)\n",
    "\n",
    "cat_onehot = df[['Race', 'Sex']]\n",
    "mtx_onehot = onehot.fit_transform(cat_onehot).toarray()\n",
    "df_onehot = pd.DataFrame(mtx_onehot, columns=np.concatenate(onehot.categories_))\n",
    "df.drop(['Race', 'Sex'], axis=1, inplace=True)\n",
    "df = pd.concat([df, df_onehot], axis=1)"
   ]
  },
  {
   "cell_type": "code",
   "execution_count": 9,
   "metadata": {},
   "outputs": [
    {
     "data": {
      "text/html": [
       "<div>\n",
       "<style scoped>\n",
       "    .dataframe tbody tr th:only-of-type {\n",
       "        vertical-align: middle;\n",
       "    }\n",
       "\n",
       "    .dataframe tbody tr th {\n",
       "        vertical-align: top;\n",
       "    }\n",
       "\n",
       "    .dataframe thead th {\n",
       "        text-align: right;\n",
       "    }\n",
       "</style>\n",
       "<table border=\"1\" class=\"dataframe\">\n",
       "  <thead>\n",
       "    <tr style=\"text-align: right;\">\n",
       "      <th></th>\n",
       "      <th>Statute</th>\n",
       "      <th>X</th>\n",
       "      <th>Y</th>\n",
       "      <th>Year</th>\n",
       "      <th>Month</th>\n",
       "      <th>Time</th>\n",
       "      <th>American Indian/Alaskan Native</th>\n",
       "      <th>Asian or Pacific Islander</th>\n",
       "      <th>Black</th>\n",
       "      <th>Unknown Race</th>\n",
       "      <th>White</th>\n",
       "      <th>Female</th>\n",
       "      <th>Male</th>\n",
       "      <th>Unknown Sex</th>\n",
       "    </tr>\n",
       "  </thead>\n",
       "  <tbody>\n",
       "    <tr>\n",
       "      <th>0</th>\n",
       "      <td>18.2-415</td>\n",
       "      <td>-78.500668</td>\n",
       "      <td>38.035105</td>\n",
       "      <td>2019.0</td>\n",
       "      <td>6.0</td>\n",
       "      <td>7.316667</td>\n",
       "      <td>0.0</td>\n",
       "      <td>0.0</td>\n",
       "      <td>1.0</td>\n",
       "      <td>0.0</td>\n",
       "      <td>0.0</td>\n",
       "      <td>1.0</td>\n",
       "      <td>0.0</td>\n",
       "      <td>0.0</td>\n",
       "    </tr>\n",
       "    <tr>\n",
       "      <th>1</th>\n",
       "      <td>18.2-388</td>\n",
       "      <td>-78.504152</td>\n",
       "      <td>38.039890</td>\n",
       "      <td>2019.0</td>\n",
       "      <td>6.0</td>\n",
       "      <td>6.983333</td>\n",
       "      <td>0.0</td>\n",
       "      <td>0.0</td>\n",
       "      <td>0.0</td>\n",
       "      <td>0.0</td>\n",
       "      <td>1.0</td>\n",
       "      <td>0.0</td>\n",
       "      <td>1.0</td>\n",
       "      <td>0.0</td>\n",
       "    </tr>\n",
       "    <tr>\n",
       "      <th>2</th>\n",
       "      <td>18.2-111</td>\n",
       "      <td>-78.476634</td>\n",
       "      <td>38.031669</td>\n",
       "      <td>2019.0</td>\n",
       "      <td>6.0</td>\n",
       "      <td>4.000000</td>\n",
       "      <td>0.0</td>\n",
       "      <td>0.0</td>\n",
       "      <td>0.0</td>\n",
       "      <td>0.0</td>\n",
       "      <td>1.0</td>\n",
       "      <td>1.0</td>\n",
       "      <td>0.0</td>\n",
       "      <td>0.0</td>\n",
       "    </tr>\n",
       "    <tr>\n",
       "      <th>3</th>\n",
       "      <td>19.2-306</td>\n",
       "      <td>-78.477332</td>\n",
       "      <td>38.030289</td>\n",
       "      <td>2019.0</td>\n",
       "      <td>6.0</td>\n",
       "      <td>0.033333</td>\n",
       "      <td>0.0</td>\n",
       "      <td>0.0</td>\n",
       "      <td>1.0</td>\n",
       "      <td>0.0</td>\n",
       "      <td>0.0</td>\n",
       "      <td>0.0</td>\n",
       "      <td>1.0</td>\n",
       "      <td>0.0</td>\n",
       "    </tr>\n",
       "    <tr>\n",
       "      <th>4</th>\n",
       "      <td>18.2-137(B)(i)</td>\n",
       "      <td>-78.477332</td>\n",
       "      <td>38.030289</td>\n",
       "      <td>2019.0</td>\n",
       "      <td>6.0</td>\n",
       "      <td>18.250000</td>\n",
       "      <td>0.0</td>\n",
       "      <td>0.0</td>\n",
       "      <td>0.0</td>\n",
       "      <td>0.0</td>\n",
       "      <td>1.0</td>\n",
       "      <td>0.0</td>\n",
       "      <td>1.0</td>\n",
       "      <td>0.0</td>\n",
       "    </tr>\n",
       "  </tbody>\n",
       "</table>\n",
       "</div>"
      ],
      "text/plain": [
       "          Statute          X          Y    Year  Month       Time  \\\n",
       "0        18.2-415 -78.500668  38.035105  2019.0    6.0   7.316667   \n",
       "1        18.2-388 -78.504152  38.039890  2019.0    6.0   6.983333   \n",
       "2        18.2-111 -78.476634  38.031669  2019.0    6.0   4.000000   \n",
       "3        19.2-306 -78.477332  38.030289  2019.0    6.0   0.033333   \n",
       "4  18.2-137(B)(i) -78.477332  38.030289  2019.0    6.0  18.250000   \n",
       "\n",
       "   American Indian/Alaskan Native  Asian or Pacific Islander  Black  \\\n",
       "0                             0.0                        0.0    1.0   \n",
       "1                             0.0                        0.0    0.0   \n",
       "2                             0.0                        0.0    0.0   \n",
       "3                             0.0                        0.0    1.0   \n",
       "4                             0.0                        0.0    0.0   \n",
       "\n",
       "   Unknown Race  White  Female  Male  Unknown Sex  \n",
       "0           0.0    0.0     1.0   0.0          0.0  \n",
       "1           0.0    1.0     0.0   1.0          0.0  \n",
       "2           0.0    1.0     1.0   0.0          0.0  \n",
       "3           0.0    0.0     0.0   1.0          0.0  \n",
       "4           0.0    1.0     0.0   1.0          0.0  "
      ]
     },
     "execution_count": 9,
     "metadata": {},
     "output_type": "execute_result"
    }
   ],
   "source": [
    "df.head()"
   ]
  },
  {
   "cell_type": "code",
   "execution_count": 12,
   "metadata": {},
   "outputs": [
    {
     "name": "stdout",
     "output_type": "stream",
     "text": [
      "There are 14 columns in total.\n",
      "There are 1 columns that have missing values.\n"
     ]
    },
    {
     "data": {
      "text/html": [
       "<div>\n",
       "<style scoped>\n",
       "    .dataframe tbody tr th:only-of-type {\n",
       "        vertical-align: middle;\n",
       "    }\n",
       "\n",
       "    .dataframe tbody tr th {\n",
       "        vertical-align: top;\n",
       "    }\n",
       "\n",
       "    .dataframe thead th {\n",
       "        text-align: right;\n",
       "    }\n",
       "</style>\n",
       "<table border=\"1\" class=\"dataframe\">\n",
       "  <thead>\n",
       "    <tr style=\"text-align: right;\">\n",
       "      <th></th>\n",
       "      <th>Missing Values</th>\n",
       "      <th>% of Total Values</th>\n",
       "    </tr>\n",
       "  </thead>\n",
       "  <tbody>\n",
       "    <tr>\n",
       "      <th>Statute</th>\n",
       "      <td>18</td>\n",
       "      <td>0.1036</td>\n",
       "    </tr>\n",
       "  </tbody>\n",
       "</table>\n",
       "</div>"
      ],
      "text/plain": [
       "         Missing Values  % of Total Values\n",
       "Statute              18             0.1036"
      ]
     },
     "execution_count": 12,
     "metadata": {},
     "output_type": "execute_result"
    }
   ],
   "source": [
    "miss_values = null_values(df)\n",
    "pd.set_option('display.max_rows', None)\n",
    "miss_values"
   ]
  },
  {
   "cell_type": "markdown",
   "metadata": {},
   "source": [
    "We shall remove those entries with missing statutes."
   ]
  },
  {
   "cell_type": "code",
   "execution_count": 13,
   "metadata": {},
   "outputs": [],
   "source": [
    "df.dropna(subset=['Statute'], how='any', inplace=True)"
   ]
  },
  {
   "cell_type": "code",
   "execution_count": 14,
   "metadata": {},
   "outputs": [
    {
     "name": "stdout",
     "output_type": "stream",
     "text": [
      "There are 14 columns in total.\n",
      "There are 0 columns that have missing values.\n"
     ]
    },
    {
     "data": {
      "text/html": [
       "<div>\n",
       "<style scoped>\n",
       "    .dataframe tbody tr th:only-of-type {\n",
       "        vertical-align: middle;\n",
       "    }\n",
       "\n",
       "    .dataframe tbody tr th {\n",
       "        vertical-align: top;\n",
       "    }\n",
       "\n",
       "    .dataframe thead th {\n",
       "        text-align: right;\n",
       "    }\n",
       "</style>\n",
       "<table border=\"1\" class=\"dataframe\">\n",
       "  <thead>\n",
       "    <tr style=\"text-align: right;\">\n",
       "      <th></th>\n",
       "      <th>Missing Values</th>\n",
       "      <th>% of Total Values</th>\n",
       "    </tr>\n",
       "  </thead>\n",
       "  <tbody>\n",
       "  </tbody>\n",
       "</table>\n",
       "</div>"
      ],
      "text/plain": [
       "Empty DataFrame\n",
       "Columns: [Missing Values, % of Total Values]\n",
       "Index: []"
      ]
     },
     "execution_count": 14,
     "metadata": {},
     "output_type": "execute_result"
    }
   ],
   "source": [
    "miss_values = null_values(df)\n",
    "pd.set_option('display.max_rows', None)\n",
    "miss_values"
   ]
  },
  {
   "cell_type": "markdown",
   "metadata": {},
   "source": [
    "To deal with the cyclical features Month and Time, we take the sine and cosine with period 12 and 24, respectively."
   ]
  },
  {
   "cell_type": "code",
   "execution_count": 15,
   "metadata": {},
   "outputs": [],
   "source": [
    "df['Month_Cos'] = np.cos((df['Month'] - 1) * (2*np.pi/12))\n",
    "df['Month_Sin'] = np.sin((df['Month'] - 1) * (2*np.pi/12))\n",
    "df['Time_Cos'] = np.cos(df['Time']* (2*np.pi/24))\n",
    "df['Time_Sin'] = np.sin(df['Time']* (2*np.pi/24))\n",
    "df.drop(['Month', 'Time'], axis=1, inplace=True)"
   ]
  },
  {
   "cell_type": "code",
   "execution_count": 23,
   "metadata": {},
   "outputs": [
    {
     "data": {
      "text/html": [
       "<div>\n",
       "<style scoped>\n",
       "    .dataframe tbody tr th:only-of-type {\n",
       "        vertical-align: middle;\n",
       "    }\n",
       "\n",
       "    .dataframe tbody tr th {\n",
       "        vertical-align: top;\n",
       "    }\n",
       "\n",
       "    .dataframe thead th {\n",
       "        text-align: right;\n",
       "    }\n",
       "</style>\n",
       "<table border=\"1\" class=\"dataframe\">\n",
       "  <thead>\n",
       "    <tr style=\"text-align: right;\">\n",
       "      <th></th>\n",
       "      <th>X</th>\n",
       "      <th>Y</th>\n",
       "      <th>Year</th>\n",
       "      <th>American Indian/Alaskan Native</th>\n",
       "      <th>Asian or Pacific Islander</th>\n",
       "      <th>Black</th>\n",
       "      <th>Unknown Race</th>\n",
       "      <th>White</th>\n",
       "      <th>Female</th>\n",
       "      <th>Male</th>\n",
       "      <th>Unknown Sex</th>\n",
       "      <th>Month_Cos</th>\n",
       "      <th>Month_Sin</th>\n",
       "      <th>Time_Cos</th>\n",
       "      <th>Time_Sin</th>\n",
       "    </tr>\n",
       "  </thead>\n",
       "  <tbody>\n",
       "    <tr>\n",
       "      <th>0</th>\n",
       "      <td>-78.500668</td>\n",
       "      <td>38.035105</td>\n",
       "      <td>2019.0</td>\n",
       "      <td>0.0</td>\n",
       "      <td>0.0</td>\n",
       "      <td>1.0</td>\n",
       "      <td>0.0</td>\n",
       "      <td>0.0</td>\n",
       "      <td>1.0</td>\n",
       "      <td>0.0</td>\n",
       "      <td>0.0</td>\n",
       "      <td>-0.866025</td>\n",
       "      <td>0.5</td>\n",
       "      <td>-0.337917</td>\n",
       "      <td>0.941176</td>\n",
       "    </tr>\n",
       "    <tr>\n",
       "      <th>1</th>\n",
       "      <td>-78.504152</td>\n",
       "      <td>38.039890</td>\n",
       "      <td>2019.0</td>\n",
       "      <td>0.0</td>\n",
       "      <td>0.0</td>\n",
       "      <td>0.0</td>\n",
       "      <td>0.0</td>\n",
       "      <td>1.0</td>\n",
       "      <td>0.0</td>\n",
       "      <td>1.0</td>\n",
       "      <td>0.0</td>\n",
       "      <td>-0.866025</td>\n",
       "      <td>0.5</td>\n",
       "      <td>-0.254602</td>\n",
       "      <td>0.967046</td>\n",
       "    </tr>\n",
       "    <tr>\n",
       "      <th>2</th>\n",
       "      <td>-78.476634</td>\n",
       "      <td>38.031669</td>\n",
       "      <td>2019.0</td>\n",
       "      <td>0.0</td>\n",
       "      <td>0.0</td>\n",
       "      <td>0.0</td>\n",
       "      <td>0.0</td>\n",
       "      <td>1.0</td>\n",
       "      <td>1.0</td>\n",
       "      <td>0.0</td>\n",
       "      <td>0.0</td>\n",
       "      <td>-0.866025</td>\n",
       "      <td>0.5</td>\n",
       "      <td>0.500000</td>\n",
       "      <td>0.866025</td>\n",
       "    </tr>\n",
       "    <tr>\n",
       "      <th>3</th>\n",
       "      <td>-78.477332</td>\n",
       "      <td>38.030289</td>\n",
       "      <td>2019.0</td>\n",
       "      <td>0.0</td>\n",
       "      <td>0.0</td>\n",
       "      <td>1.0</td>\n",
       "      <td>0.0</td>\n",
       "      <td>0.0</td>\n",
       "      <td>0.0</td>\n",
       "      <td>1.0</td>\n",
       "      <td>0.0</td>\n",
       "      <td>-0.866025</td>\n",
       "      <td>0.5</td>\n",
       "      <td>0.999962</td>\n",
       "      <td>0.008727</td>\n",
       "    </tr>\n",
       "    <tr>\n",
       "      <th>4</th>\n",
       "      <td>-78.477332</td>\n",
       "      <td>38.030289</td>\n",
       "      <td>2019.0</td>\n",
       "      <td>0.0</td>\n",
       "      <td>0.0</td>\n",
       "      <td>0.0</td>\n",
       "      <td>0.0</td>\n",
       "      <td>1.0</td>\n",
       "      <td>0.0</td>\n",
       "      <td>1.0</td>\n",
       "      <td>0.0</td>\n",
       "      <td>-0.866025</td>\n",
       "      <td>0.5</td>\n",
       "      <td>0.065403</td>\n",
       "      <td>-0.997859</td>\n",
       "    </tr>\n",
       "  </tbody>\n",
       "</table>\n",
       "</div>"
      ],
      "text/plain": [
       "           X          Y    Year  American Indian/Alaskan Native  \\\n",
       "0 -78.500668  38.035105  2019.0                             0.0   \n",
       "1 -78.504152  38.039890  2019.0                             0.0   \n",
       "2 -78.476634  38.031669  2019.0                             0.0   \n",
       "3 -78.477332  38.030289  2019.0                             0.0   \n",
       "4 -78.477332  38.030289  2019.0                             0.0   \n",
       "\n",
       "   Asian or Pacific Islander  Black  Unknown Race  White  Female  Male  \\\n",
       "0                        0.0    1.0           0.0    0.0     1.0   0.0   \n",
       "1                        0.0    0.0           0.0    1.0     0.0   1.0   \n",
       "2                        0.0    0.0           0.0    1.0     1.0   0.0   \n",
       "3                        0.0    1.0           0.0    0.0     0.0   1.0   \n",
       "4                        0.0    0.0           0.0    1.0     0.0   1.0   \n",
       "\n",
       "   Unknown Sex  Month_Cos  Month_Sin  Time_Cos  Time_Sin  \n",
       "0          0.0  -0.866025        0.5 -0.337917  0.941176  \n",
       "1          0.0  -0.866025        0.5 -0.254602  0.967046  \n",
       "2          0.0  -0.866025        0.5  0.500000  0.866025  \n",
       "3          0.0  -0.866025        0.5  0.999962  0.008727  \n",
       "4          0.0  -0.866025        0.5  0.065403 -0.997859  "
      ]
     },
     "execution_count": 23,
     "metadata": {},
     "output_type": "execute_result"
    }
   ],
   "source": [
    "df.head()"
   ]
  },
  {
   "cell_type": "markdown",
   "metadata": {},
   "source": [
    "Let us keep only those rows where the coordinates are inside of a box defined by in_long and in_lat. Outside refers to locations that are not in Charlottesville."
   ]
  },
  {
   "cell_type": "code",
   "execution_count": 16,
   "metadata": {},
   "outputs": [],
   "source": [
    "in_long = (-78.60 < df['X']) & (df['X'] < -78.40)\n",
    "in_lat  = (+37.95 < df['Y']) & (df['Y'] < +38.15)\n",
    "df = df[in_long & in_lat]"
   ]
  },
  {
   "cell_type": "code",
   "execution_count": 17,
   "metadata": {},
   "outputs": [
    {
     "data": {
      "image/png": "[encoded data removed]",
      "text/plain": [
       "<Figure size 720x720 with 1 Axes>"
      ]
     },
     "metadata": {
      "needs_background": "dark"
     },
     "output_type": "display_data"
    }
   ],
   "source": [
    "df.plot(kind=\"scatter\", x='X', y='Y', alpha=0.1, figsize=(10, 10));"
   ]
  },
  {
   "cell_type": "markdown",
   "metadata": {},
   "source": [
    "For the purposes of clustering, let us first drop the statutes column, and focus on the features time, race, and gender first."
   ]
  },
  {
   "cell_type": "code",
   "execution_count": 18,
   "metadata": {},
   "outputs": [],
   "source": [
    "df.drop(['Statute'], axis=1, inplace=True)"
   ]
  },
  {
   "cell_type": "code",
   "execution_count": 19,
   "metadata": {},
   "outputs": [],
   "source": [
    "pipeline = Pipeline([\n",
    "    ('scaler', StandardScaler())\n",
    "])"
   ]
  },
  {
   "cell_type": "code",
   "execution_count": 20,
   "metadata": {},
   "outputs": [],
   "source": [
    "df_scaled = pipeline.fit_transform(df)"
   ]
  },
  {
   "cell_type": "code",
   "execution_count": 21,
   "metadata": {},
   "outputs": [],
   "source": [
    "from sklearn.cluster import KMeans"
   ]
  },
  {
   "cell_type": "code",
   "execution_count": 29,
   "metadata": {},
   "outputs": [
    {
     "data": {
      "text/plain": [
       "Text(0, 0.5, 'Inertia')"
      ]
     },
     "execution_count": 29,
     "metadata": {},
     "output_type": "execute_result"
    },
    {
     "data": {
      "image/png": "[encoded data removed]",
      "text/plain": [
       "<Figure size 432x288 with 1 Axes>"
      ]
     },
     "metadata": {
      "needs_background": "dark"
     },
     "output_type": "display_data"
    }
   ],
   "source": [
    "kmeans_per_k = [KMeans(n_clusters=k, random_state=42).fit(df_scaled) for k in range(1, 25)]\n",
    "inertias = [model.inertia_ for model in kmeans_per_k]\n",
    "plt.plot(range(1, 25), inertias)\n",
    "plt.title(\"Optimizing cluster number\")\n",
    "plt.xlabel(\"Number of clusters\")\n",
    "plt.ylabel(\"Inertia\");"
   ]
  },
  {
   "cell_type": "code",
   "execution_count": 30,
   "metadata": {},
   "outputs": [],
   "source": [
    "from sklearn.metrics import silhouette_score"
   ]
  },
  {
   "cell_type": "code",
   "execution_count": 31,
   "metadata": {},
   "outputs": [
    {
     "data": {
      "image/png": "[encoded data removed]",
      "text/plain": [
       "<Figure size 432x288 with 1 Axes>"
      ]
     },
     "metadata": {
      "needs_background": "dark"
     },
     "output_type": "display_data"
    }
   ],
   "source": [
    "silhouette_scores = [silhouette_score(df_scaled, model.labels_) for model in kmeans_per_k[1:]]\n",
    "plt.plot(range(2, 25), silhouette_scores)\n",
    "plt.xlabel(\"$k$\")\n",
    "plt.ylabel(\"Silhouette score\");"
   ]
  },
  {
   "cell_type": "code",
   "execution_count": 32,
   "metadata": {},
   "outputs": [
    {
     "data": {
      "text/html": [
       "<div>\n",
       "<style scoped>\n",
       "    .dataframe tbody tr th:only-of-type {\n",
       "        vertical-align: middle;\n",
       "    }\n",
       "\n",
       "    .dataframe tbody tr th {\n",
       "        vertical-align: top;\n",
       "    }\n",
       "\n",
       "    .dataframe thead th {\n",
       "        text-align: right;\n",
       "    }\n",
       "</style>\n",
       "<table border=\"1\" class=\"dataframe\">\n",
       "  <thead>\n",
       "    <tr style=\"text-align: right;\">\n",
       "      <th></th>\n",
       "      <th>X</th>\n",
       "      <th>Y</th>\n",
       "      <th>Year</th>\n",
       "      <th>American Indian/Alaskan Native</th>\n",
       "      <th>Asian or Pacific Islander</th>\n",
       "      <th>Black</th>\n",
       "      <th>Unknown Race</th>\n",
       "      <th>White</th>\n",
       "      <th>Female</th>\n",
       "      <th>Male</th>\n",
       "      <th>Unknown Sex</th>\n",
       "      <th>Month_Cos</th>\n",
       "      <th>Month_Sin</th>\n",
       "      <th>Time_Cos</th>\n",
       "      <th>Time_Sin</th>\n",
       "    </tr>\n",
       "  </thead>\n",
       "  <tbody>\n",
       "    <tr>\n",
       "      <th>0</th>\n",
       "      <td>-78.484679</td>\n",
       "      <td>38.028581</td>\n",
       "      <td>2016.608576</td>\n",
       "      <td>4.553649e-18</td>\n",
       "      <td>-5.898060e-17</td>\n",
       "      <td>3.574918e-14</td>\n",
       "      <td>-6.643991e-16</td>\n",
       "      <td>1.000000e+00</td>\n",
       "      <td>5.384582e-15</td>\n",
       "      <td>1.000000e+00</td>\n",
       "      <td>2.211772e-17</td>\n",
       "      <td>-0.037584</td>\n",
       "      <td>0.043436</td>\n",
       "      <td>-0.075034</td>\n",
       "      <td>-0.718683</td>\n",
       "    </tr>\n",
       "    <tr>\n",
       "      <th>1</th>\n",
       "      <td>-78.486371</td>\n",
       "      <td>38.028513</td>\n",
       "      <td>2016.821285</td>\n",
       "      <td>-5.193328e-17</td>\n",
       "      <td>-5.984796e-17</td>\n",
       "      <td>1.000000e+00</td>\n",
       "      <td>-8.881784e-16</td>\n",
       "      <td>-2.814415e-14</td>\n",
       "      <td>1.618150e-14</td>\n",
       "      <td>1.000000e+00</td>\n",
       "      <td>-1.951564e-17</td>\n",
       "      <td>-0.482816</td>\n",
       "      <td>0.434644</td>\n",
       "      <td>0.129162</td>\n",
       "      <td>-0.185562</td>\n",
       "    </tr>\n",
       "    <tr>\n",
       "      <th>2</th>\n",
       "      <td>-78.488668</td>\n",
       "      <td>38.030441</td>\n",
       "      <td>2016.664372</td>\n",
       "      <td>-1.767250e-17</td>\n",
       "      <td>-5.898060e-17</td>\n",
       "      <td>3.830269e-14</td>\n",
       "      <td>-7.528700e-16</td>\n",
       "      <td>1.000000e+00</td>\n",
       "      <td>9.603429e-15</td>\n",
       "      <td>1.000000e+00</td>\n",
       "      <td>1.279359e-17</td>\n",
       "      <td>-0.032794</td>\n",
       "      <td>-0.044734</td>\n",
       "      <td>0.415393</td>\n",
       "      <td>0.589817</td>\n",
       "    </tr>\n",
       "    <tr>\n",
       "      <th>3</th>\n",
       "      <td>-78.486234</td>\n",
       "      <td>38.029840</td>\n",
       "      <td>2016.640878</td>\n",
       "      <td>1.019150e-17</td>\n",
       "      <td>-5.724587e-17</td>\n",
       "      <td>2.586820e-14</td>\n",
       "      <td>-3.330669e-16</td>\n",
       "      <td>1.000000e+00</td>\n",
       "      <td>1.000000e+00</td>\n",
       "      <td>-1.965095e-14</td>\n",
       "      <td>1.723881e-17</td>\n",
       "      <td>0.000253</td>\n",
       "      <td>0.009861</td>\n",
       "      <td>0.150439</td>\n",
       "      <td>-0.158077</td>\n",
       "    </tr>\n",
       "    <tr>\n",
       "      <th>4</th>\n",
       "      <td>-78.487602</td>\n",
       "      <td>38.029326</td>\n",
       "      <td>2016.490774</td>\n",
       "      <td>-3.881444e-17</td>\n",
       "      <td>-5.984796e-17</td>\n",
       "      <td>1.000000e+00</td>\n",
       "      <td>-8.378714e-16</td>\n",
       "      <td>-2.098322e-14</td>\n",
       "      <td>1.365574e-14</td>\n",
       "      <td>1.000000e+00</td>\n",
       "      <td>-7.155734e-18</td>\n",
       "      <td>0.456865</td>\n",
       "      <td>-0.465953</td>\n",
       "      <td>0.156334</td>\n",
       "      <td>-0.117059</td>\n",
       "    </tr>\n",
       "    <tr>\n",
       "      <th>5</th>\n",
       "      <td>-78.490766</td>\n",
       "      <td>38.029539</td>\n",
       "      <td>2017.178947</td>\n",
       "      <td>-2.168404e-19</td>\n",
       "      <td>1.000000e+00</td>\n",
       "      <td>0.000000e+00</td>\n",
       "      <td>6.938894e-18</td>\n",
       "      <td>-2.775558e-16</td>\n",
       "      <td>1.263158e-01</td>\n",
       "      <td>8.736842e-01</td>\n",
       "      <td>9.757820e-19</td>\n",
       "      <td>0.129514</td>\n",
       "      <td>-0.022463</td>\n",
       "      <td>0.199937</td>\n",
       "      <td>0.131154</td>\n",
       "    </tr>\n",
       "    <tr>\n",
       "      <th>6</th>\n",
       "      <td>-78.488092</td>\n",
       "      <td>38.031883</td>\n",
       "      <td>2017.545455</td>\n",
       "      <td>1.000000e+00</td>\n",
       "      <td>-8.673617e-19</td>\n",
       "      <td>0.000000e+00</td>\n",
       "      <td>-1.734723e-18</td>\n",
       "      <td>-1.110223e-16</td>\n",
       "      <td>2.775558e-17</td>\n",
       "      <td>1.000000e+00</td>\n",
       "      <td>0.000000e+00</td>\n",
       "      <td>0.042191</td>\n",
       "      <td>0.090909</td>\n",
       "      <td>0.639767</td>\n",
       "      <td>-0.238383</td>\n",
       "    </tr>\n",
       "    <tr>\n",
       "      <th>7</th>\n",
       "      <td>-78.498515</td>\n",
       "      <td>38.028407</td>\n",
       "      <td>2018.777778</td>\n",
       "      <td>-1.084202e-19</td>\n",
       "      <td>0.000000e+00</td>\n",
       "      <td>1.111111e-01</td>\n",
       "      <td>8.888889e-01</td>\n",
       "      <td>-5.551115e-17</td>\n",
       "      <td>-2.775558e-17</td>\n",
       "      <td>0.000000e+00</td>\n",
       "      <td>1.000000e+00</td>\n",
       "      <td>-0.688461</td>\n",
       "      <td>0.525783</td>\n",
       "      <td>0.791901</td>\n",
       "      <td>0.397978</td>\n",
       "    </tr>\n",
       "    <tr>\n",
       "      <th>8</th>\n",
       "      <td>-78.487118</td>\n",
       "      <td>38.030095</td>\n",
       "      <td>2016.870748</td>\n",
       "      <td>-2.168404e-19</td>\n",
       "      <td>-1.561251e-17</td>\n",
       "      <td>0.000000e+00</td>\n",
       "      <td>1.000000e+00</td>\n",
       "      <td>-1.054712e-15</td>\n",
       "      <td>4.353741e-01</td>\n",
       "      <td>5.646259e-01</td>\n",
       "      <td>1.084202e-18</td>\n",
       "      <td>-0.085636</td>\n",
       "      <td>0.010937</td>\n",
       "      <td>0.274937</td>\n",
       "      <td>-0.059482</td>\n",
       "    </tr>\n",
       "    <tr>\n",
       "      <th>9</th>\n",
       "      <td>-78.486853</td>\n",
       "      <td>38.029085</td>\n",
       "      <td>2016.701604</td>\n",
       "      <td>1.019150e-17</td>\n",
       "      <td>-5.724587e-17</td>\n",
       "      <td>1.000000e+00</td>\n",
       "      <td>-3.417405e-16</td>\n",
       "      <td>1.088019e-14</td>\n",
       "      <td>1.000000e+00</td>\n",
       "      <td>-1.965095e-14</td>\n",
       "      <td>1.723881e-17</td>\n",
       "      <td>-0.080519</td>\n",
       "      <td>0.020797</td>\n",
       "      <td>0.142956</td>\n",
       "      <td>-0.230011</td>\n",
       "    </tr>\n",
       "  </tbody>\n",
       "</table>\n",
       "</div>"
      ],
      "text/plain": [
       "           X          Y         Year  American Indian/Alaskan Native  \\\n",
       "0 -78.484679  38.028581  2016.608576                    4.553649e-18   \n",
       "1 -78.486371  38.028513  2016.821285                   -5.193328e-17   \n",
       "2 -78.488668  38.030441  2016.664372                   -1.767250e-17   \n",
       "3 -78.486234  38.029840  2016.640878                    1.019150e-17   \n",
       "4 -78.487602  38.029326  2016.490774                   -3.881444e-17   \n",
       "5 -78.490766  38.029539  2017.178947                   -2.168404e-19   \n",
       "6 -78.488092  38.031883  2017.545455                    1.000000e+00   \n",
       "7 -78.498515  38.028407  2018.777778                   -1.084202e-19   \n",
       "8 -78.487118  38.030095  2016.870748                   -2.168404e-19   \n",
       "9 -78.486853  38.029085  2016.701604                    1.019150e-17   \n",
       "\n",
       "   Asian or Pacific Islander         Black  Unknown Race         White  \\\n",
       "0              -5.898060e-17  3.574918e-14 -6.643991e-16  1.000000e+00   \n",
       "1              -5.984796e-17  1.000000e+00 -8.881784e-16 -2.814415e-14   \n",
       "2              -5.898060e-17  3.830269e-14 -7.528700e-16  1.000000e+00   \n",
       "3              -5.724587e-17  2.586820e-14 -3.330669e-16  1.000000e+00   \n",
       "4              -5.984796e-17  1.000000e+00 -8.378714e-16 -2.098322e-14   \n",
       "5               1.000000e+00  0.000000e+00  6.938894e-18 -2.775558e-16   \n",
       "6              -8.673617e-19  0.000000e+00 -1.734723e-18 -1.110223e-16   \n",
       "7               0.000000e+00  1.111111e-01  8.888889e-01 -5.551115e-17   \n",
       "8              -1.561251e-17  0.000000e+00  1.000000e+00 -1.054712e-15   \n",
       "9              -5.724587e-17  1.000000e+00 -3.417405e-16  1.088019e-14   \n",
       "\n",
       "         Female          Male   Unknown Sex  Month_Cos  Month_Sin  Time_Cos  \\\n",
       "0  5.384582e-15  1.000000e+00  2.211772e-17  -0.037584   0.043436 -0.075034   \n",
       "1  1.618150e-14  1.000000e+00 -1.951564e-17  -0.482816   0.434644  0.129162   \n",
       "2  9.603429e-15  1.000000e+00  1.279359e-17  -0.032794  -0.044734  0.415393   \n",
       "3  1.000000e+00 -1.965095e-14  1.723881e-17   0.000253   0.009861  0.150439   \n",
       "4  1.365574e-14  1.000000e+00 -7.155734e-18   0.456865  -0.465953  0.156334   \n",
       "5  1.263158e-01  8.736842e-01  9.757820e-19   0.129514  -0.022463  0.199937   \n",
       "6  2.775558e-17  1.000000e+00  0.000000e+00   0.042191   0.090909  0.639767   \n",
       "7 -2.775558e-17  0.000000e+00  1.000000e+00  -0.688461   0.525783  0.791901   \n",
       "8  4.353741e-01  5.646259e-01  1.084202e-18  -0.085636   0.010937  0.274937   \n",
       "9  1.000000e+00 -1.965095e-14  1.723881e-17  -0.080519   0.020797  0.142956   \n",
       "\n",
       "   Time_Sin  \n",
       "0 -0.718683  \n",
       "1 -0.185562  \n",
       "2  0.589817  \n",
       "3 -0.158077  \n",
       "4 -0.117059  \n",
       "5  0.131154  \n",
       "6 -0.238383  \n",
       "7  0.397978  \n",
       "8 -0.059482  \n",
       "9 -0.230011  "
      ]
     },
     "execution_count": 32,
     "metadata": {},
     "output_type": "execute_result"
    }
   ],
   "source": [
    "pd.DataFrame(pipeline.inverse_transform(kmeans_per_k[9].cluster_centers_), columns=df.columns)"
   ]
  },
  {
   "cell_type": "code",
   "execution_count": 33,
   "metadata": {},
   "outputs": [
    {
     "data": {
      "text/plain": [
       "102846.03858781612"
      ]
     },
     "execution_count": 33,
     "metadata": {},
     "output_type": "execute_result"
    }
   ],
   "source": [
    "kmeans_per_k[9].inertia_"
   ]
  },
  {
   "cell_type": "code",
   "execution_count": null,
   "metadata": {},
   "outputs": [],
   "source": []
  }
 ],
 "metadata": {
  "kernelspec": {
   "display_name": "Python 3",
   "language": "python",
   "name": "python3"
  },
  "language_info": {
   "codemirror_mode": {
    "name": "ipython",
    "version": 3
   },
   "file_extension": ".py",
   "mimetype": "text/x-python",
   "name": "python",
   "nbconvert_exporter": "python",
   "pygments_lexer": "ipython3",
   "version": "3.6.8"
  }
 },
 "nbformat": 4,
 "nbformat_minor": 2
}
