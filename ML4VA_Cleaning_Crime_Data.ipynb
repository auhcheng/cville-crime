{
  "nbformat": 4,
  "nbformat_minor": 0,
  "metadata": {
    "colab": {
      "name": "ML4VA - Cleaning Crime Data",
      "provenance": [],
      "collapsed_sections": []
    },
    "kernelspec": {
      "name": "python3",
      "display_name": "Python 3"
    }
  },
  "cells": [
    {
      "cell_type": "markdown",
      "metadata": {
        "id": "GQXWzeysdLpR",
        "colab_type": "text"
      },
      "source": [
        "Cleaning crime data such that:\n",
        "*   Get latitude and longitude coordinates for each data point\n",
        "*   Convert string representation of date and time to numerical\n",
        "*   Group offenses into categories\n"
      ]
    },
    {
      "cell_type": "code",
      "metadata": {
        "id": "9_WUeSUOopzJ",
        "colab_type": "code",
        "colab": {
          "base_uri": "https://localhost:8080/",
          "height": 887
        },
        "outputId": "84af2f73-2d5a-4289-ad22-862a4131f81c"
      },
      "source": [
        "# Installations for geopandas\n",
        "!apt update\n",
        "!apt upgrade\n",
        "!apt install gdal-bin python-gdal python3-gdal \n",
        "# Install rtree - Geopandas requirment\n",
        "!apt install python3-rtree \n",
        "# Install Geopandas\n",
        "!pip install git+git://github.com/geopandas/geopandas.git\n",
        "# Install descartes - Geopandas requirment\n",
        "!pip install descartes "
      ],
      "execution_count": 49,
      "outputs": [
        {
          "output_type": "stream",
          "text": [
            "\u001b[33m\r0% [Working]\u001b[0m\r            \rIgn:1 https://developer.download.nvidia.com/compute/cuda/repos/ubuntu1804/x86_64  InRelease\n",
            "\u001b[33m\r0% [Connecting to archive.ubuntu.com (91.189.88.149)] [Connecting to security.u\u001b[0m\r                                                                               \rHit:2 https://cloud.r-project.org/bin/linux/ubuntu bionic-cran35/ InRelease\n",
            "\u001b[33m\r0% [Connecting to archive.ubuntu.com (91.189.88.149)] [Connecting to security.u\u001b[0m\r                                                                               \rIgn:3 https://developer.download.nvidia.com/compute/machine-learning/repos/ubuntu1804/x86_64  InRelease\n",
            "\u001b[33m\r0% [Connecting to archive.ubuntu.com (91.189.88.149)] [Connecting to security.u\u001b[0m\u001b[33m\r0% [2 InRelease gpgv 3,626 B] [Connecting to archive.ubuntu.com (91.189.88.149)\u001b[0m\r                                                                               \rHit:4 https://developer.download.nvidia.com/compute/cuda/repos/ubuntu1804/x86_64  Release\n",
            "Hit:5 https://developer.download.nvidia.com/compute/machine-learning/repos/ubuntu1804/x86_64  Release\n",
            "Hit:6 http://ppa.launchpad.net/graphics-drivers/ppa/ubuntu bionic InRelease\n",
            "Get:7 http://security.ubuntu.com/ubuntu bionic-security InRelease [88.7 kB]\n",
            "Hit:8 http://archive.ubuntu.com/ubuntu bionic InRelease\n",
            "Hit:9 http://ppa.launchpad.net/marutter/c2d4u3.5/ubuntu bionic InRelease\n",
            "Get:11 http://archive.ubuntu.com/ubuntu bionic-updates InRelease [88.7 kB]\n",
            "Get:13 http://archive.ubuntu.com/ubuntu bionic-backports InRelease [74.6 kB]\n",
            "Fetched 252 kB in 2s (106 kB/s)\n",
            "Reading package lists... Done\n",
            "Building dependency tree       \n",
            "Reading state information... Done\n",
            "22 packages can be upgraded. Run 'apt list --upgradable' to see them.\n",
            "E: dpkg was interrupted, you must manually run 'dpkg --configure -a' to correct the problem. \n",
            "E: dpkg was interrupted, you must manually run 'dpkg --configure -a' to correct the problem. \n",
            "E: dpkg was interrupted, you must manually run 'dpkg --configure -a' to correct the problem. \n",
            "Collecting git+git://github.com/geopandas/geopandas.git\n",
            "  Cloning git://github.com/geopandas/geopandas.git to /tmp/pip-req-build-jlq_iv0v\n",
            "  Running command git clone -q git://github.com/geopandas/geopandas.git /tmp/pip-req-build-jlq_iv0v\n",
            "Requirement already satisfied (use --upgrade to upgrade): geopandas==0.6.1+8.g1e37902 from git+git://github.com/geopandas/geopandas.git in /usr/local/lib/python3.6/dist-packages\n",
            "Requirement already satisfied: pandas>=0.23.0 in /usr/local/lib/python3.6/dist-packages (from geopandas==0.6.1+8.g1e37902) (0.25.2)\n",
            "Requirement already satisfied: shapely in /usr/local/lib/python3.6/dist-packages (from geopandas==0.6.1+8.g1e37902) (1.6.4.post2)\n",
            "Requirement already satisfied: fiona in /usr/local/lib/python3.6/dist-packages (from geopandas==0.6.1+8.g1e37902) (1.8.9.post2)\n",
            "Requirement already satisfied: pyproj in /usr/local/lib/python3.6/dist-packages (from geopandas==0.6.1+8.g1e37902) (2.4.0)\n",
            "Requirement already satisfied: python-dateutil>=2.6.1 in /usr/local/lib/python3.6/dist-packages (from pandas>=0.23.0->geopandas==0.6.1+8.g1e37902) (2.6.1)\n",
            "Requirement already satisfied: numpy>=1.13.3 in /usr/local/lib/python3.6/dist-packages (from pandas>=0.23.0->geopandas==0.6.1+8.g1e37902) (1.17.3)\n",
            "Requirement already satisfied: pytz>=2017.2 in /usr/local/lib/python3.6/dist-packages (from pandas>=0.23.0->geopandas==0.6.1+8.g1e37902) (2018.9)\n",
            "Requirement already satisfied: attrs>=17 in /usr/local/lib/python3.6/dist-packages (from fiona->geopandas==0.6.1+8.g1e37902) (19.3.0)\n",
            "Requirement already satisfied: click-plugins>=1.0 in /usr/local/lib/python3.6/dist-packages (from fiona->geopandas==0.6.1+8.g1e37902) (1.1.1)\n",
            "Requirement already satisfied: click<8,>=4.0 in /usr/local/lib/python3.6/dist-packages (from fiona->geopandas==0.6.1+8.g1e37902) (7.0)\n",
            "Requirement already satisfied: cligj>=0.5 in /usr/local/lib/python3.6/dist-packages (from fiona->geopandas==0.6.1+8.g1e37902) (0.5.0)\n",
            "Requirement already satisfied: six>=1.7 in /usr/local/lib/python3.6/dist-packages (from fiona->geopandas==0.6.1+8.g1e37902) (1.12.0)\n",
            "Requirement already satisfied: munch in /usr/local/lib/python3.6/dist-packages (from fiona->geopandas==0.6.1+8.g1e37902) (2.5.0)\n",
            "Building wheels for collected packages: geopandas\n",
            "  Building wheel for geopandas (setup.py) ... \u001b[?25l\u001b[?25hdone\n",
            "  Created wheel for geopandas: filename=geopandas-0.6.1+8.g1e37902-py2.py3-none-any.whl size=918800 sha256=e7fc5428cd82dddb825f30dd3ed0aa0cd7d07b224f1c48923372d3d82d725840\n",
            "  Stored in directory: /tmp/pip-ephem-wheel-cache-x55buhxl/wheels/91/24/71/376c9c67192694168352afcccc2d264248f7e2cc6192997186\n",
            "Successfully built geopandas\n",
            "Requirement already satisfied: descartes in /usr/local/lib/python3.6/dist-packages (1.1.0)\n",
            "Requirement already satisfied: matplotlib in /usr/local/lib/python3.6/dist-packages (from descartes) (3.1.1)\n",
            "Requirement already satisfied: pyparsing!=2.0.4,!=2.1.2,!=2.1.6,>=2.0.1 in /usr/local/lib/python3.6/dist-packages (from matplotlib->descartes) (2.4.2)\n",
            "Requirement already satisfied: kiwisolver>=1.0.1 in /usr/local/lib/python3.6/dist-packages (from matplotlib->descartes) (1.1.0)\n",
            "Requirement already satisfied: cycler>=0.10 in /usr/local/lib/python3.6/dist-packages (from matplotlib->descartes) (0.10.0)\n",
            "Requirement already satisfied: numpy>=1.11 in /usr/local/lib/python3.6/dist-packages (from matplotlib->descartes) (1.17.3)\n",
            "Requirement already satisfied: python-dateutil>=2.1 in /usr/local/lib/python3.6/dist-packages (from matplotlib->descartes) (2.6.1)\n",
            "Requirement already satisfied: setuptools in /usr/local/lib/python3.6/dist-packages (from kiwisolver>=1.0.1->matplotlib->descartes) (41.4.0)\n",
            "Requirement already satisfied: six in /usr/local/lib/python3.6/dist-packages (from cycler>=0.10->matplotlib->descartes) (1.12.0)\n"
          ],
          "name": "stdout"
        }
      ]
    },
    {
      "cell_type": "code",
      "metadata": {
        "id": "N7lEWKmEdoE1",
        "colab_type": "code",
        "colab": {}
      },
      "source": [
        "# Download data and relevant packages\n",
        "import os\n",
        "import numpy as np\n",
        "import pandas as pd\n",
        "from datetime import datetime\n",
        "from datetime import timedelta\n",
        "import geopandas as gpd\n",
        "\n",
        "csv_url = 'https://opendata.arcgis.com/datasets/d1877e350fad45d192d233d2b2600156_6.csv'\n",
        "crime_df = pd.read_csv(csv_url)\n",
        "crime_df = crime_df.drop(['HourReported', 'Agency'], axis = 1)"
      ],
      "execution_count": 0,
      "outputs": []
    },
    {
      "cell_type": "code",
      "metadata": {
        "id": "8SXmhdbEdgXY",
        "colab_type": "code",
        "colab": {
          "base_uri": "https://localhost:8080/",
          "height": 221
        },
        "outputId": "10ac3261-f19d-4427-e719-a52ea6097e61"
      },
      "source": [
        "# Convert string representations of data and time to numerical\n",
        "\n",
        "dt_string = \"2019-08-29T17:47:31.000Z\"\n",
        "# Considering date is in dd/mm/yyyy format\n",
        "dt_object1 = datetime.strptime(dt_string, \"%Y-%m-%dT%H:%M:%S.000Z\")\n",
        "print(\"dt_object1 =\", dt_object1)\n",
        "\n",
        "# Create a column with the date reported as datetime objects\n",
        "crime_df['TimeReported'] = crime_df['DateReported'].apply(lambda dt_string: datetime.strptime(dt_string, \"%Y-%m-%dT%H:%M:%S.000Z\"))\n",
        "crime_df = crime_df.drop('DateReported', axis = 1)\n",
        "\n",
        "crime_df.head()"
      ],
      "execution_count": 51,
      "outputs": [
        {
          "output_type": "stream",
          "text": [
            "dt_object1 = 2019-08-29 17:47:31\n"
          ],
          "name": "stdout"
        },
        {
          "output_type": "execute_result",
          "data": {
            "text/html": [
              "<div>\n",
              "<style scoped>\n",
              "    .dataframe tbody tr th:only-of-type {\n",
              "        vertical-align: middle;\n",
              "    }\n",
              "\n",
              "    .dataframe tbody tr th {\n",
              "        vertical-align: top;\n",
              "    }\n",
              "\n",
              "    .dataframe thead th {\n",
              "        text-align: right;\n",
              "    }\n",
              "</style>\n",
              "<table border=\"1\" class=\"dataframe\">\n",
              "  <thead>\n",
              "    <tr style=\"text-align: right;\">\n",
              "      <th></th>\n",
              "      <th>RecordID</th>\n",
              "      <th>Offense</th>\n",
              "      <th>IncidentID</th>\n",
              "      <th>BlockNumber</th>\n",
              "      <th>StreetName</th>\n",
              "      <th>TimeReported</th>\n",
              "    </tr>\n",
              "  </thead>\n",
              "  <tbody>\n",
              "    <tr>\n",
              "      <th>0</th>\n",
              "      <td>1001</td>\n",
              "      <td>Larceny - From Motor Vehicle</td>\n",
              "      <td>201900024682</td>\n",
              "      <td>400.0</td>\n",
              "      <td>5TH ST SW</td>\n",
              "      <td>2019-08-29 17:47:31</td>\n",
              "    </tr>\n",
              "    <tr>\n",
              "      <th>1</th>\n",
              "      <td>1002</td>\n",
              "      <td>Assault Intimidation</td>\n",
              "      <td>201900024676</td>\n",
              "      <td>1900.0</td>\n",
              "      <td>EMMET ST N</td>\n",
              "      <td>2019-08-29 16:51:37</td>\n",
              "    </tr>\n",
              "    <tr>\n",
              "      <th>2</th>\n",
              "      <td>1003</td>\n",
              "      <td>Larceny - All Other</td>\n",
              "      <td>201900024664</td>\n",
              "      <td>1300.0</td>\n",
              "      <td>CARLTON AVE</td>\n",
              "      <td>2019-08-29 15:45:04</td>\n",
              "    </tr>\n",
              "    <tr>\n",
              "      <th>3</th>\n",
              "      <td>1004</td>\n",
              "      <td>Lost/FoundProperty</td>\n",
              "      <td>201900024659</td>\n",
              "      <td>200.0</td>\n",
              "      <td>RIDGE MCINTIRE RD</td>\n",
              "      <td>2019-08-29 15:03:52</td>\n",
              "    </tr>\n",
              "    <tr>\n",
              "      <th>4</th>\n",
              "      <td>1005</td>\n",
              "      <td>Assault Simple</td>\n",
              "      <td>201900024652</td>\n",
              "      <td>600.0</td>\n",
              "      <td>CABELL AVE</td>\n",
              "      <td>2019-08-29 14:08:09</td>\n",
              "    </tr>\n",
              "  </tbody>\n",
              "</table>\n",
              "</div>"
            ],
            "text/plain": [
              "   RecordID  ...        TimeReported\n",
              "0      1001  ... 2019-08-29 17:47:31\n",
              "1      1002  ... 2019-08-29 16:51:37\n",
              "2      1003  ... 2019-08-29 15:45:04\n",
              "3      1004  ... 2019-08-29 15:03:52\n",
              "4      1005  ... 2019-08-29 14:08:09\n",
              "\n",
              "[5 rows x 6 columns]"
            ]
          },
          "metadata": {
            "tags": []
          },
          "execution_count": 51
        }
      ]
    },
    {
      "cell_type": "code",
      "metadata": {
        "id": "EQcAWsu2jIPv",
        "colab_type": "code",
        "colab": {
          "base_uri": "https://localhost:8080/",
          "height": 153
        },
        "outputId": "252fd7e6-da97-444c-fafa-9652f9652ef3"
      },
      "source": [
        "# Given a list of possible types of offenses, returns dataframe only containing rows with the offense\n",
        "# Case insensitive\n",
        "\n",
        "def select_crime(df, crime_name):\n",
        "  selected_df = df[df['Offense'].str.contains(crime_name, case=False)] \n",
        "  print(selected_df.head())"
      ],
      "execution_count": 59,
      "outputs": [
        {
          "output_type": "stream",
          "text": [
            "    RecordID                       Offense  ...      StreetName        TimeReported\n",
            "0       1001  Larceny - From Motor Vehicle  ...       5TH ST SW 2019-08-29 17:47:31\n",
            "2       1003           Larceny - All Other  ...     CARLTON AVE 2019-08-29 15:45:04\n",
            "8       1009           Larceny - All Other  ...   MONTICELLO RD 2019-08-28 21:19:03\n",
            "11      1012  Larceny - From Motor Vehicle  ...  MONTICELLO AVE 2019-08-28 04:22:28\n",
            "17      1018           Larceny - All Other  ...     WERTLAND ST 2019-08-27 21:39:21\n",
            "\n",
            "[5 rows x 6 columns]\n"
          ],
          "name": "stdout"
        }
      ]
    },
    {
      "cell_type": "code",
      "metadata": {
        "id": "2OvtBiQtdFd8",
        "colab_type": "code",
        "colab": {
          "base_uri": "https://localhost:8080/",
          "height": 129
        },
        "outputId": "49f11a02-a398-4fe0-f02e-5728e3ab8f34"
      },
      "source": [
        "# Get latitude and longitude coordinates of each data point\n",
        "# single address\n",
        "locator = Nominatim(user_agent=”myGeocoder”)\n",
        "location = locator.geocode(“Champ de Mars, Paris, France”)\n",
        "print(“Latitude = {}, Longitude = {}”.format(location.latitude, location.longitude))\n",
        "\n",
        "# multiple addresses\n",
        "df = pd.read_csv(“addresses.csv”)\n",
        "df.head()\n",
        "# Karlaplan 13,115 20,STOCKHOLM,Stockholms län, Sweden\n",
        "# 1 - conveneint function to delay between geocoding calls\n",
        "geocode = RateLimiter(locator.geocode, min_delay_seconds=1)\n",
        "# 2- - create location column\n",
        "df['location'] = df['ADDRESS'].apply(geocode)\n",
        "# 3 - create longitude, laatitude and altitude from location column (returns tuple)\n",
        "df['point'] = df['location'].apply(lambda loc: tuple(loc.point) if loc else None)\n",
        "# 4 - split point column into latitude, longitude and altitude columns\n",
        "df[['latitude', 'longitude', 'altitude']] = pd.DataFrame(df['point'].tolist(), index=df.index)\n",
        "#cleaned table with latitude and longitude\n",
        "df = df.drop([‘Address1’, ‘Address3’, ‘Address4’, ‘Address5’,’Telefon’, ‘ADDRESS’, ‘location’, ‘point’], axis=1)\n",
        "df.head()\n",
        "\n",
        "# visualization\n",
        "map1 = folium.Map(\n",
        "    location=[59.338315,18.089960],\n",
        "    tiles='cartodbpositron',\n",
        "    zoom_start=12,\n",
        ")\n",
        "df.apply(lambda row:folium.CircleMarker(location=[row[\"latitude\"], row[\"longitude\"]]).add_to(map1), axis=1)\n",
        "map1\n"
      ],
      "execution_count": 37,
      "outputs": [
        {
          "output_type": "error",
          "ename": "SyntaxError",
          "evalue": "ignored",
          "traceback": [
            "\u001b[0;36m  File \u001b[0;32m\"<ipython-input-37-52285812e737>\"\u001b[0;36m, line \u001b[0;32m1\u001b[0m\n\u001b[0;31m    locator = Nominatim(user_agent=”myGeocoder”)\u001b[0m\n\u001b[0m                                              ^\u001b[0m\n\u001b[0;31mSyntaxError\u001b[0m\u001b[0;31m:\u001b[0m invalid character in identifier\n"
          ]
        }
      ]
    }
  ]
}